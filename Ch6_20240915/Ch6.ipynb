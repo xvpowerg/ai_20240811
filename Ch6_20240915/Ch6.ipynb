{
 "cells": [
  {
   "cell_type": "markdown",
   "id": "a52acaa7-65fc-4a22-8bfe-ad985c5552f5",
   "metadata": {},
   "source": [
    "## 作業\n",
    "\n",
    "設計錢包總金額為 1000 元，\n",
    "\n",
    "如果購買商品總金額超過 1000 \n",
    "\n",
    "會引發一個金額不足的例外 OverflowError"
   ]
  },
  {
   "cell_type": "code",
   "execution_count": 1,
   "id": "aae0720c-0430-4ffc-9dc2-c6f420590a07",
   "metadata": {},
   "outputs": [
    {
     "name": "stdin",
     "output_type": "stream",
     "text": [
      "消費項目 AA\n",
      "消費金額 100\n",
      "消費項目 BB\n",
      "消費金額 200\n",
      "消費項目 CC\n",
      "消費金額 300\n",
      "消費項目 DD\n",
      "消費金額 500\n"
     ]
    },
    {
     "name": "stdout",
     "output_type": "stream",
     "text": [
      "已經超支了\n",
      "{'AA': '100', 'BB': '200', 'CC': '300'}\n"
     ]
    }
   ],
   "source": [
    "sum = 0\n",
    "dict1 = {}\n",
    "while True:\n",
    "    item = input(\"消費項目\")\n",
    "    price = input(\"消費金額\")\n",
    "    try:\n",
    "        if sum + int(price) > 1000:\n",
    "            raise OverflowError\n",
    "        dict1[item] =  price  \n",
    "        sum += int(price)\n",
    "    except OverflowError:\n",
    "        print(\"已經超支了\")\n",
    "        break\n",
    "print(dict1)        "
   ]
  },
  {
   "cell_type": "code",
   "execution_count": 24,
   "id": "17d9818b-c4ea-447d-af2d-f4d5576810d6",
   "metadata": {},
   "outputs": [
    {
     "name": "stdout",
     "output_type": "stream",
     "text": [
      "Ken 5\n"
     ]
    }
   ],
   "source": [
    "class Person:\n",
    "    def __init__(self,name,age):\n",
    "        self.__name = name\n",
    "        self.setAge(age)\n",
    "    def setAge(self,age):\n",
    "        if age < 5 or age > 20:\n",
    "            raise OverflowError(\"錯誤的年齡\")\n",
    "        self.__age = age\n",
    "    def getAge(self):\n",
    "        return self.__age\n",
    "    def setName(self,name):\n",
    "        self.__name = name\n",
    "    def getName(self):\n",
    "        return self.__name\n",
    "    def printInfo(self):\n",
    "        print(self.getName(),self.getAge())\n",
    "p1 = Person(\"Ken\",5)\n",
    "p1.printInfo()\n"
   ]
  },
  {
   "cell_type": "code",
   "execution_count": 23,
   "id": "1e3645f6-4426-4167-8807-cd6f9a92b16c",
   "metadata": {},
   "outputs": [
    {
     "name": "stdout",
     "output_type": "stream",
     "text": [
      "Student:Iris\n",
      "Student:Iris 5\n"
     ]
    }
   ],
   "source": [
    "## 練習1 完成以下功能\n",
    "class Student (Person):\n",
    "    def getName(self):\n",
    "        return f\"Student:{super().getName()}\"\n",
    "st1 = Student(\"Iris\",5)\n",
    "print(st1.getName())\n",
    "st1.printInfo()\n",
    "## 練習2 完成以下功能\n",
    "# age 的範圍可在5~20歲 如果超過或低於發生例外OverflowError"
   ]
  },
  {
   "cell_type": "markdown",
   "id": "443844d1-66b8-4233-8f59-5d3060bf4bfd",
   "metadata": {},
   "source": [
    "## 多重繼承與初始化方法\n",
    "### 多重繼承\n",
    "+ 繼承多個父類別時用，隔開\n",
    "+ 注意成員搜尋的順序\n",
    "  + 從子類別開始\n",
    "  + 同一階層父類別由左至右搜尋\n",
    "  + 更上層祖父類別由左至右搜尋\n",
    "  + 直到達到頂層為止"
   ]
  },
  {
   "cell_type": "code",
   "execution_count": 32,
   "id": "31385f69-42e4-4219-a18c-9aff0188cbe9",
   "metadata": {},
   "outputs": [
    {
     "name": "stdout",
     "output_type": "stream",
     "text": [
      "[<class '__main__.C'>, <class '__main__.A'>, <class '__main__.B'>, <class '__main__.Z'>, <class '__main__.S'>, <class 'object'>]\n",
      "C.method4\n",
      "A.method3\n",
      "B.method2\n",
      "Z.method1\n"
     ]
    }
   ],
   "source": [
    "class S():\n",
    "    def method1(self):\n",
    "        print(\"S.method1\")\n",
    "    def method2(self):\n",
    "        print(\"S.method2\")\n",
    "class Z():\n",
    "    def method1(self):\n",
    "        print(\"Z.method1\")\n",
    "class A(S):\n",
    "    def method3(self):\n",
    "        print(\"A.method3\")\n",
    "class B(Z,S):\n",
    "    def method2(self):\n",
    "        print(\"B.method2\")\n",
    "    def method3(self):\n",
    "        print(\"B.method3\")\n",
    "class C(A,B):\n",
    "    def method4(self):\n",
    "        print(\"C.method4\")\n",
    "c = C()\n",
    "print(C.mro())\n",
    "c.method4()\n",
    "c.method3()\n",
    "c.method2()\n",
    "c.method1()"
   ]
  },
  {
   "cell_type": "markdown",
   "id": "f8970c95-cfbf-4e84-a542-e16b1febc562",
   "metadata": {},
   "source": [
    "## 初始化方法"
   ]
  },
  {
   "cell_type": "code",
   "execution_count": 53,
   "id": "a0d4c5fc-3100-44ab-8aa2-d808a95f82f1",
   "metadata": {},
   "outputs": [
    {
     "name": "stdout",
     "output_type": "stream",
     "text": [
      "Gigi 10\n",
      "Didi 2\n",
      "age: 2 Yumi 5\n"
     ]
    }
   ],
   "source": [
    "class Animal:\n",
    "    def __init__(self,name,height = 10):\n",
    "        self.__name = name\n",
    "        self.__height = height\n",
    "    def printInfo(self):\n",
    "        print(self.__name,self.__height)\n",
    "a1 = Animal(\"Gigi\")\n",
    "a1.printInfo()\n",
    "\n",
    "class Dog(Animal):\n",
    "    pass\n",
    "class Cat(Animal):\n",
    "    def __init__(self,name,height=10,age=0):\n",
    "        super().__init__(name,height)\n",
    "        self.__age = age\n",
    "    def printInfo(self):\n",
    "        print(\"age:\",self.__age,end=\" \")\n",
    "        super().printInfo()\n",
    "        \n",
    "dog1 =  Dog(\"Didi\",2) \n",
    "dog1.printInfo()\n",
    "cat1 = Cat(\"Yumi\",5,2)\n",
    "cat1.printInfo()"
   ]
  },
  {
   "cell_type": "code",
   "execution_count": 54,
   "id": "3c71dce1-d252-4b47-a8bd-f2a442dcb719",
   "metadata": {},
   "outputs": [
    {
     "name": "stdout",
     "output_type": "stream",
     "text": [
      "(2,3) (-1,2)\n"
     ]
    }
   ],
   "source": [
    "class Point:\n",
    "    def __init__(self,x = 0, y = 0):\n",
    "        self.x = x\n",
    "        self.y = y\n",
    "    def __str__(self): \n",
    "        return f\"({self.x},{self.y})\"\n",
    "p1 = Point(2,3)\n",
    "p2 = Point(-1,2)\n",
    "print(p1,p2)"
   ]
  },
  {
   "cell_type": "code",
   "execution_count": 57,
   "id": "c9b2ed95-523b-4e68-8998-fd424c1df3b1",
   "metadata": {},
   "outputs": [
    {
     "name": "stdout",
     "output_type": "stream",
     "text": [
      "Gigi 10\n",
      "Didi:2\n",
      "Yumi:5:2\n"
     ]
    }
   ],
   "source": [
    "class Animal:\n",
    "    def __init__(self,name,height = 10):\n",
    "        self.__name = name\n",
    "        self.__height = height\n",
    "    def printInfo(self):\n",
    "        print(self.__name,self.__height)\n",
    "    def __str__(self):\n",
    "        return f\"{self.__name}:{self.__height}\"\n",
    "a1 = Animal(\"Gigi\")\n",
    "a1.printInfo()\n",
    "\n",
    "class Dog(Animal):\n",
    "    pass\n",
    "class Cat(Animal):\n",
    "    def __init__(self,name,height=10,age=0):\n",
    "        super().__init__(name,height)\n",
    "        self.__age = age\n",
    "    def printInfo(self):\n",
    "        print(\"age:\",self.__age,end=\" \")\n",
    "        super().printInfo()\n",
    "    def __str__(self):\n",
    "        return f\"{super().__str__()}:{self.__age}\"\n",
    "        \n",
    "dog1 =  Dog(\"Didi\",2) \n",
    "print(dog1)\n",
    "cat1 = Cat(\"Yumi\",5,2)\n",
    "print(cat1)"
   ]
  },
  {
   "cell_type": "markdown",
   "id": "968ff174-60fb-46c7-a2cb-3ca6f14ad3f0",
   "metadata": {},
   "source": [
    "``` python\n",
    "__add__  +\n",
    "\n",
    "__iadd__  +=\n",
    "\n",
    "__sub__  -\n",
    "\n",
    "__isub__  -=\n",
    "\n",
    "__mul__  *\n",
    "\n",
    "__imul__  *=\n",
    "\n",
    "__truediv__   /\n",
    "\n",
    "__itruediv__   /=\n",
    "\n",
    "__floordiv__  //\n",
    "\n",
    "__ifloordiv__  //=\n",
    "\n",
    "__mod__  %\n",
    "\n",
    "__imod__  %=\n",
    "\n",
    "__pow__  **\n",
    "\n",
    "__ipow__  **=\n",
    "```"
   ]
  },
  {
   "cell_type": "code",
   "execution_count": 62,
   "id": "e12b0e21-8289-4050-8b9d-919e674e149e",
   "metadata": {},
   "outputs": [
    {
     "name": "stdout",
     "output_type": "stream",
     "text": [
      "(2,3) (-1,2)\n",
      "(1,5)\n",
      "(3,1)\n"
     ]
    }
   ],
   "source": [
    "class Point:\n",
    "    def __init__(self,x = 0, y = 0):\n",
    "        self.x = x\n",
    "        self.y = y\n",
    "    def __str__(self):\n",
    "        return f\"({self.x},{self.y})\"\n",
    "    def __add__(self,other):    \n",
    "        x = self.x + other.x\n",
    "        y = self.y + other.y\n",
    "        newPoint = Point(x,y)\n",
    "        return newPoint\n",
    "    def __sub__(self,other):\n",
    "        x = self.x - other.x\n",
    "        y = self.y - other.y\n",
    "        newPoint = Point(x,y)\n",
    "        return newPoint\n",
    "        \n",
    "p1 = Point(2,3)\n",
    "p2 = Point(-1,2)\n",
    "print(p1,p2)\n",
    "print(p1 + p2)\n",
    "print(p1 - p2)"
   ]
  },
  {
   "cell_type": "code",
   "execution_count": 73,
   "id": "3ed7396e-933c-4aac-9db1-426ef1600b68",
   "metadata": {},
   "outputs": [
    {
     "name": "stdout",
     "output_type": "stream",
     "text": [
      "(1,1) (2,3) (4,9) "
     ]
    }
   ],
   "source": [
    "class Point:\n",
    "    def __init__(self,x = 0, y = 0):\n",
    "        self.x = x\n",
    "        self.y = y\n",
    "    def __str__(self):\n",
    "        return f\"({self.x},{self.y})\"\n",
    "    def __len__(self):\n",
    "        myLen = (self.x ** 2) + (self.y ** 2)\n",
    "        return myLen\n",
    "    def __lt__(self,other):\n",
    "        aLen = len(self)\n",
    "        bLen = len(other)\n",
    "        return aLen <  bLen\n",
    "p1 = Point(2,3)\n",
    "p2 = Point(1,1)\n",
    "p3 = Point(4,9)\n",
    "myList = [p1,p2,p3]\n",
    "myList.sort()\n",
    "for v in myList:\n",
    "     print(v,end = \" \")"
   ]
  },
  {
   "cell_type": "markdown",
   "id": "f1a43c4a-ff1a-4615-b95e-569b5e6fb655",
   "metadata": {},
   "source": [
    "## 目錄管理"
   ]
  },
  {
   "cell_type": "code",
   "execution_count": 74,
   "id": "6836a822-eb2c-478f-8a29-7775c5407ff5",
   "metadata": {},
   "outputs": [
    {
     "name": "stdout",
     "output_type": "stream",
     "text": [
      "C:\\Users\\xvpow\\ai_python_20240811\\Ch6_20240915\n"
     ]
    }
   ],
   "source": [
    "import os\n",
    "print(os.getcwd())"
   ]
  },
  {
   "cell_type": "code",
   "execution_count": 76,
   "id": "9cd979b9-3365-4abc-95a3-e3731c3115ef",
   "metadata": {},
   "outputs": [
    {
     "name": "stdout",
     "output_type": "stream",
     "text": [
      "C:\\Users\\xvpow\\ai_python_20240811\\Ch6_20240915\n",
      "['.ipynb_checkpoints', 'Ch6.ipynb', 'MyDir', 'Test1.txt', 'Test2.txt']\n",
      ".ipynb_checkpoints\n",
      "Ch6.ipynb\n",
      "MyDir\n",
      "Test1.txt\n",
      "Test2.txt\n"
     ]
    }
   ],
   "source": [
    "import os\n",
    "print(os.getcwd())\n",
    "print(os.listdir())\n",
    "myList = os.listdir()\n",
    "for f in myList:\n",
    "    print(f)"
   ]
  },
  {
   "cell_type": "code",
   "execution_count": 81,
   "id": "a632bd6a-d370-49ce-bc9c-40fa83467411",
   "metadata": {},
   "outputs": [
    {
     "name": "stdout",
     "output_type": "stream",
     "text": [
      "C:\\myimages\n",
      "['check.png', 'Donut.png', 'fox1.png', 'peace.png']\n",
      "C:\\Users\\xvpow\\ai_python_20240811\\Ch6_20240915\n"
     ]
    }
   ],
   "source": [
    "import os\n",
    "try:\n",
    "  os.chdir(r\"C:\\myimages\")\n",
    "except:\n",
    "    print(\"不能切\")\n",
    "print(os.getcwd())\n",
    "print(os.listdir())\n",
    "try:\n",
    "    os.chdir(r\"C:\\Users\\xvpow\\ai_python_20240811\\Ch6_20240915\")\n",
    "except:\n",
    "     print(\"不能切\")\n",
    "print(os.getcwd())    "
   ]
  },
  {
   "cell_type": "code",
   "execution_count": 84,
   "id": "4404a05f-cba1-45d4-9c08-ca9e8af2c53d",
   "metadata": {},
   "outputs": [
    {
     "name": "stdout",
     "output_type": "stream",
     "text": [
      "C:\\Users\\xvpow\\ai_python_20240811\\Ch6_20240915\n",
      "['.ipynb_checkpoints', 'Ch6.ipynb', 'MyDir', 'Test1.txt', 'Test2.txt']\n",
      "目錄: .ipynb_checkpoints\n",
      "檔案: Ch6.ipynb\n",
      "目錄: MyDir\n",
      "檔案: Test1.txt\n",
      "檔案: Test2.txt\n"
     ]
    }
   ],
   "source": [
    "import os\n",
    "import os.path \n",
    "print(os.getcwd())\n",
    "print(os.listdir())\n",
    "myList = os.listdir()\n",
    "for f in myList:\n",
    "    if os.path.isfile(f):\n",
    "        print(\"檔案:\",f)\n",
    "    elif os.path.isdir(f):\n",
    "        print(\"目錄:\",f)"
   ]
  },
  {
   "cell_type": "code",
   "execution_count": 90,
   "id": "8c2518dd-12cf-4260-923c-9f9b39e4e210",
   "metadata": {},
   "outputs": [
    {
     "name": "stdout",
     "output_type": "stream",
     "text": [
      "C:\\Users\\xvpow\\ai_python_20240811\\Ch6_20240915\n",
      "root: .\n",
      "dirs: ['.ipynb_checkpoints', 'MyDir']\n",
      "files: ['Ch6.ipynb', 'Test1.txt', 'Test2.txt']\n",
      "root: .\\.ipynb_checkpoints\n",
      "dirs: []\n",
      "files: ['Ch6-checkpoint.ipynb']\n",
      "root: .\\MyDir\n",
      "dirs: []\n",
      "files: []\n"
     ]
    }
   ],
   "source": [
    "from os import walk\n",
    "import os\n",
    "print(os.getcwd())\n",
    "for  root,dirs,files in  walk(\".\"):\n",
    "    print(\"root:\",root)\n",
    "    print(\"dirs:\",dirs)\n",
    "    print(\"files:\",files)\n"
   ]
  },
  {
   "cell_type": "markdown",
   "id": "c3445ed3-914d-4864-98d4-8c31cd9777c0",
   "metadata": {},
   "source": [
    "## 模組與套件\n",
    "引用 python 檔案就以檔案的主檔案名稱作為模組名稱，\n",
    "\n",
    "+ 共有以下三種方式：\n",
    "+ import 模組\n",
    "+ import 模組 as 新模組名稱\n",
    "+ from 模組 import 模組內方法\n",
    "  + 不建議 from 模組 import *，易造成名稱衝突!"
   ]
  },
  {
   "cell_type": "markdown",
   "id": "a742f22b-3de6-4512-8909-f4a9e86142e7",
   "metadata": {},
   "source": [
    "## 模組"
   ]
  },
  {
   "cell_type": "code",
   "execution_count": 2,
   "id": "54e9c816-9cb6-483d-8270-984c2610b243",
   "metadata": {},
   "outputs": [
    {
     "name": "stdout",
     "output_type": "stream",
     "text": [
      "Create\n",
      "func1\n"
     ]
    }
   ],
   "source": [
    "import modu\n",
    "ob1 = modu.Test1()\n",
    "modu.fun1()"
   ]
  },
  {
   "cell_type": "code",
   "execution_count": 2,
   "id": "c993c8ce-b605-4bf1-90e4-68f49d36f78b",
   "metadata": {},
   "outputs": [
    {
     "name": "stdout",
     "output_type": "stream",
     "text": [
      "__main__\n"
     ]
    }
   ],
   "source": [
    "print(__name__)"
   ]
  },
  {
   "cell_type": "markdown",
   "id": "39eafe76-37f1-4e40-909a-acaacef997cc",
   "metadata": {},
   "source": [
    "## 套件"
   ]
  },
  {
   "cell_type": "code",
   "execution_count": 8,
   "id": "703aebcd-b5e5-4785-a4a5-0f9a762e2884",
   "metadata": {},
   "outputs": [
    {
     "name": "stdout",
     "output_type": "stream",
     "text": [
      "IO Happy Python\n",
      "Happy Python!!\n",
      "Happy Python!!\n"
     ]
    }
   ],
   "source": [
    "import happy.my_mod\n",
    "import happy.io.my_mod_io as myio\n",
    "myio.happy_python()\n",
    "happy.my_mod.happy_python()\n",
    "from happy.my_mod import happy_python\n",
    "happy_python()"
   ]
  },
  {
   "cell_type": "markdown",
   "id": "85dadd6b-b1b9-44fc-8f9e-03c26d865746",
   "metadata": {},
   "source": [
    "## 內建模組函數"
   ]
  },
  {
   "cell_type": "markdown",
   "id": "31e95830-606c-457a-8668-c04dda37a47b",
   "metadata": {},
   "source": [
    "## 亂數\n",
    "+ 必須加入 import  random 語法。\n",
    "+ 隨機整數：0 到 100 之間(包含100)，請加入 random.randint(0,100) 語法。\n",
    "+ 隨機數值：請加入random.random ( ) 語法。\n",
    "+ 隨機選取 0 到100 間的偶數(固定間隔)，請加入 random.randrange(0, 101, 2) 語法。"
   ]
  },
  {
   "cell_type": "code",
   "execution_count": 18,
   "id": "69685627-67cd-416a-8b1e-bfe35a693b7d",
   "metadata": {},
   "outputs": [
    {
     "name": "stdout",
     "output_type": "stream",
     "text": [
      "95\n",
      "0.5116248309405647\n"
     ]
    }
   ],
   "source": [
    "import random\n",
    "a = random.randint(0,100)#0~100 包含100\n",
    "print(a)\n",
    "c = random.random()\n",
    "print(c)"
   ]
  },
  {
   "cell_type": "code",
   "execution_count": 24,
   "id": "06662785-81ae-4f2f-9641-ed396b8fe587",
   "metadata": {},
   "outputs": [
    {
     "name": "stdout",
     "output_type": "stream",
     "text": [
      "[20, 16, 10, 5]\n",
      "[20, 16, 10, 5]\n",
      "['a', 'b', 'h']\n",
      "['h', 'e', 'f']\n",
      "['i', 'h', 'g']\n",
      "['h', 'j', 'a']\n",
      "['c', 'e', 'h']\n",
      "['g', 'i', 'c']\n",
      "PHP\n",
      "Apple\n",
      "Python\n",
      "PHP\n",
      "Java\n",
      "Python\n"
     ]
    }
   ],
   "source": [
    "import random\n",
    "ranList = [20,16,10,5]\n",
    "print(ranList)\n",
    "random.shuffle(ranList)\n",
    "print(ranList)\n",
    "for i in range(6):\n",
    "    a = random.sample(\"abcdefghij\",3)\n",
    "    print(a)\n",
    "for i in range(6):\n",
    "    b = random.choice(['Apple',\"Java\",\"Python\",\"PHP\"])\n",
    "    print(b)"
   ]
  },
  {
   "cell_type": "code",
   "execution_count": 38,
   "id": "4e36cdaf-66da-472e-98e8-772a5def5a34",
   "metadata": {},
   "outputs": [
    {
     "name": "stdout",
     "output_type": "stream",
     "text": [
      "[2, 9, 19, 21, 24, 41]\n"
     ]
    }
   ],
   "source": [
    "import random\n",
    "numberList = list(range(1,43))\n",
    "numsers = random.sample(numberList,6)\n",
    "numsers.sort()\n",
    "print(numsers)"
   ]
  },
  {
   "cell_type": "markdown",
   "id": "6e5c0f0c-d6b2-48f7-b953-43736adbe79f",
   "metadata": {},
   "source": [
    "## 檔案存取\n",
    "\n",
    "file object = open(file_name [, access_mode])\n",
    "\n",
    "UTF8 編碼資料還請加入另一個參數才可避免亂碼：encoding=‘utf-8'\n",
    "file object = open(file_name [, access_mode])\n",
    "\n",
    "參數說明\n",
    "\n",
    "file_name：file_name 參數是一個字串資料，代表包含要連結的文件名稱。\n",
    "\n",
    "access_mode：access_mode 確定文件必須打開的模式，包括讀取、寫入、附加等等。稍後會列完整列表。這是可選參數，默認文件訪問模式為讀取(r)。\n",
    "\n",
    "|模式\t|可做操作|若檔案不存在|是否覆蓋|\n",
    "|----|--------|-----------|-------|\n",
    "|r\t|只能讀|報錯\t|-|\n",
    "|r+\t|可讀可寫|報錯|是|\n",
    "|w\t|只能寫|建立|是|\n",
    "|w+ |可讀可寫|建立|是|\n",
    "|a　|只能寫|建立|否，追加寫|\n",
    "|a+\t|可讀可寫|建立|否，追加寫|"
   ]
  },
  {
   "cell_type": "code",
   "execution_count": 40,
   "id": "def5db13-9138-4199-b796-fbb5d03dd45f",
   "metadata": {},
   "outputs": [],
   "source": [
    "text = \"\"\"python與中文AAA\n",
    "1. 我們來試試看中文儲存能力。\n",
    "2. 許這個字會有編碼衝突風險。\n",
    "3. 犇這個字必須是utf8編碼才有。\n",
    "\"\"\"\n",
    "print(text,file=open(\"data.txt\",\"w\",encoding = 'utf-8'))"
   ]
  },
  {
   "cell_type": "code",
   "execution_count": 41,
   "id": "60c1fb2e-23b4-4cda-893c-b927f15050e0",
   "metadata": {},
   "outputs": [],
   "source": [
    "text = \"\"\"python與中文AAA\n",
    "1. 我們來試試看中文儲存能力。\n",
    "2. 許這個字會有編碼衝突風險。\n",
    "3. 犇這個字必須是utf8編碼才有。\n",
    "\"\"\"\n",
    "myFile = open(\"data2.txt\",\"w\",encoding=\"utf-8\")\n",
    "myFile.write(text)\n",
    "myFile.close()"
   ]
  },
  {
   "cell_type": "code",
   "execution_count": 42,
   "id": "d7f6d879-d6fe-4969-8cb8-89c3e38acf48",
   "metadata": {},
   "outputs": [
    {
     "name": "stdin",
     "output_type": "stream",
     "text": [
      "請輸入數字(quit離開) 68\n",
      "請輸入數字(quit離開) 75\n",
      "請輸入數字(quit離開) 88\n",
      "請輸入數字(quit離開) 95\n",
      "請輸入數字(quit離開) quit\n"
     ]
    }
   ],
   "source": [
    "dataList = []\n",
    "while True:\n",
    "    score = input(\"請輸入數字(quit離開)\")\n",
    "    if score == \"quit\":\n",
    "        break\n",
    "    dataList.append(score)   \n",
    "file = open(\"score.txt\",\"w\",encoding = \"utf-8\")\n",
    "data = \",\".join(dataList)\n",
    "file.write(data)\n",
    "file.close()"
   ]
  },
  {
   "cell_type": "code",
   "execution_count": 44,
   "id": "b3dc0de4-e546-4e3b-b5d1-7f5e911f5524",
   "metadata": {},
   "outputs": [
    {
     "name": "stdout",
     "output_type": "stream",
     "text": [
      "python與中文AAA\n",
      "1. 我們來試試看中文儲存能力。\n",
      "2. 許這個字會有編碼衝突風險。\n",
      "3. 犇這個字必須是utf8編碼才有。\n",
      "\n",
      "\n"
     ]
    }
   ],
   "source": [
    "f = open(\"data.txt\",\"r\",encoding=\"utf-8\")\n",
    "content = f.read()\n",
    "print(content)\n",
    "f.close()"
   ]
  },
  {
   "cell_type": "code",
   "execution_count": 46,
   "id": "6c53beee-91a2-46c9-a3e2-454c47022d4a",
   "metadata": {},
   "outputs": [],
   "source": [
    "f = open(\"data.txt\",\"a\",encoding=\"utf-8\")\n",
    "f.write(\"早安!!\")\n",
    "f.close()"
   ]
  },
  {
   "cell_type": "markdown",
   "id": "080b92a1-461e-4f1f-8f73-d6fffb3fb2af",
   "metadata": {},
   "source": [
    "## 作業\n",
    "###  讀取score.txt 將內容加總"
   ]
  },
  {
   "cell_type": "code",
   "execution_count": null,
   "id": "9f1e8240-fb06-4c15-9e47-a9bf94aed258",
   "metadata": {},
   "outputs": [],
   "source": []
  }
 ],
 "metadata": {
  "kernelspec": {
   "display_name": "Python 3 (ipykernel)",
   "language": "python",
   "name": "python3"
  },
  "language_info": {
   "codemirror_mode": {
    "name": "ipython",
    "version": 3
   },
   "file_extension": ".py",
   "mimetype": "text/x-python",
   "name": "python",
   "nbconvert_exporter": "python",
   "pygments_lexer": "ipython3",
   "version": "3.11.9"
  }
 },
 "nbformat": 4,
 "nbformat_minor": 5
}
