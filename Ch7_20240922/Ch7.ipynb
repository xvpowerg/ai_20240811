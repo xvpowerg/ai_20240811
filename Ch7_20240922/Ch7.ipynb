{
 "cells": [
  {
   "cell_type": "markdown",
   "id": "54537e0f-b330-4714-a7f3-dc5abff1dd7f",
   "metadata": {},
   "source": [
    "## 作業\n",
    "###  讀取score.txt 將內容加總"
   ]
  },
  {
   "cell_type": "code",
   "execution_count": 1,
   "id": "a9c62b33-ee94-4c02-859a-cd179fabef2b",
   "metadata": {},
   "outputs": [
    {
     "name": "stdout",
     "output_type": "stream",
     "text": [
      "C:\\Users\\xvpow\\ai_python_20240811\\Ch7_20240922\n"
     ]
    }
   ],
   "source": [
    "import os\n",
    "print(os.getcwd())"
   ]
  },
  {
   "cell_type": "code",
   "execution_count": 3,
   "id": "cfb6bd13-4674-4a62-8bdf-e6bf1b7c05a2",
   "metadata": {},
   "outputs": [
    {
     "name": "stdout",
     "output_type": "stream",
     "text": [
      "326\n"
     ]
    }
   ],
   "source": [
    "f = open(\"score.txt\",\"r\",encoding=\"UTF-8\")\n",
    "content = f.read()\n",
    "#print(content)\n",
    "total = 0\n",
    "numbers =  content.split(\",\")\n",
    "for v in numbers:\n",
    "    total += int(v)\n",
    "print(total)    "
   ]
  },
  {
   "cell_type": "code",
   "execution_count": 4,
   "id": "93baf144-b73e-4c2f-9b8e-e8dd6b74b585",
   "metadata": {},
   "outputs": [
    {
     "data": {
      "text/plain": [
       "[1, 2, 3]"
      ]
     },
     "execution_count": 4,
     "metadata": {},
     "output_type": "execute_result"
    }
   ],
   "source": [
    "myList = [\"A\",\"B\",\"C\"]\n",
    "def listToNumber(x):\n",
    "    if x == \"A\":\n",
    "        return 1\n",
    "    elif x == \"B\":\n",
    "        return 2\n",
    "    else:\n",
    "        return 3\n",
    "        \n",
    "list(map(listToNumber,myList))\n",
    "\n"
   ]
  },
  {
   "cell_type": "code",
   "execution_count": 2,
   "id": "82b30332-96ca-4827-9dd6-c053a35c65b7",
   "metadata": {},
   "outputs": [
    {
     "name": "stdout",
     "output_type": "stream",
     "text": [
      "326\n"
     ]
    }
   ],
   "source": [
    "f = open(\"score.txt\",\"r\",encoding=\"UTF-8\")\n",
    "content = f.read()\n",
    "scoreList =  list(map(int,content.split(\",\")))\n",
    "total = sum(scoreList)\n",
    "print(total)"
   ]
  },
  {
   "cell_type": "markdown",
   "id": "55959680-fc93-4e80-892d-29bf907a6b21",
   "metadata": {},
   "source": [
    "## CSV\n",
    "+ CSV 格式是資料庫最常用的導入和導出格式。\n",
    "+ 資料均沒有類型，一切都是字串。\n",
    "+ 沒有字體或顏色與儲存格寬度高度的設置。\n",
    "+ Python 語法必須加入 import csv。\n",
    "+ 讀取儲存格資料：\n",
    "  + reader( )：依照每一列的編號 由0開始\n",
    "  + DictReader( )\n",
    "    + 以第一列的值為每一行的名稱，第一列不是資料\n",
    "    + 也可以重新命名，但第一列必須是資料"
   ]
  },
  {
   "cell_type": "markdown",
   "id": "8084b571-c1d9-4645-83de-b2a042698f77",
   "metadata": {},
   "source": [
    "## Read"
   ]
  },
  {
   "cell_type": "code",
   "execution_count": 3,
   "id": "35a954af-d471-41bc-978b-920253593d39",
   "metadata": {},
   "outputs": [
    {
     "name": "stdout",
     "output_type": "stream",
     "text": [
      " 104/01/03#2,640,781,030#64,138,886,194\n",
      " 104/01/17#3,720,277,205#101,133,309,290\n",
      " 104/01/30#4,540,373,544#143,900,658,474\n",
      " 104/01/31#5,486,734,180#162,361,181,834\n"
     ]
    }
   ],
   "source": [
    "import csv\n",
    "f = open(\"example1.csv\",\"r\")\n",
    "for row in csv.reader(f):\n",
    "    if float(row[5]) > 100:\n",
    "        print(row[0],row[1],row[2],sep=\"#\")\n",
    "\n",
    "f.close()"
   ]
  },
  {
   "cell_type": "code",
   "execution_count": 1,
   "id": "e80ac823-8ed4-4d45-b0c0-a0c7da2b0afc",
   "metadata": {},
   "outputs": [
    {
     "name": "stdout",
     "output_type": "stream",
     "text": [
      " 104/01/03#2,640,781,030#64,138,886,194\n",
      " 104/01/17#3,720,277,205#101,133,309,290\n",
      " 104/01/30#4,540,373,544#143,900,658,474\n",
      " 104/01/31#5,486,734,180#162,361,181,834\n"
     ]
    }
   ],
   "source": [
    "import csv\n",
    "f = open(\"example1.csv\",\"r\")\n",
    "for row in csv.reader(f):\n",
    "    if float(row[5]) > 100:\n",
    "        print(row[0],row[1],row[2],sep=\"#\")\n",
    "\n",
    "f.close()"
   ]
  },
  {
   "cell_type": "code",
   "execution_count": 4,
   "id": "9f07f4ff-cc63-4d66-880a-259202dcc2ca",
   "metadata": {},
   "outputs": [
    {
     "name": "stdout",
     "output_type": "stream",
     "text": [
      "101.17\n",
      "29.59\n",
      "47.89\n",
      "85.83\n",
      "117.46\n",
      "12.61\n",
      "173.72\n",
      "109.67\n"
     ]
    }
   ],
   "source": [
    "import csv\n",
    "f = open(\"example.csv\",\"r\",encoding=\"utf-8\")\n",
    "for row in csv.DictReader(f):\n",
    "    ##print(row[\"日期\"],row[\"成交筆數\"],row[\"漲跌點數\"])\n",
    "    if float(row[\"漲跌點數\"]) > 9.34:\n",
    "        print(row[\"漲跌點數\"])\n",
    "f.close()"
   ]
  },
  {
   "cell_type": "code",
   "execution_count": 9,
   "id": "93014d34-5ee5-408e-82b1-2c180fea1430",
   "metadata": {},
   "outputs": [
    {
     "name": "stdout",
     "output_type": "stream",
     "text": [
      "<class '_csv.reader'>\n",
      " 104/01/02 2,104,640,545 50,472,201,894 497,889 6,952.21 -119.87 \n",
      " 104/01/03 2,640,781,030 64,138,886,194 623,192 7,053.38 101.17 \n",
      " 104/01/04 2,983,756,821 75,845,629,353 728,417 7,082.97 29.59 \n",
      " 104/01/05 3,062,757,248 76,850,752,698 737,780 7,130.86 47.89 \n",
      " 104/01/06 3,314,147,435 88,101,921,548 823,810 7,120.51 -10.35 \n",
      " 104/01/09 2,610,433,477 71,323,370,369 634,137 7,093.04 -27.47 \n",
      " 104/01/10 3,595,611,551 97,168,542,017 869,327 7,178.87 85.83 \n",
      " 104/01/11 3,322,390,467 88,786,671,892 802,539 7,188.21 9.34 \n",
      " 104/01/12 2,969,248,375 78,947,910,460 731,328 7,186.58 -1.63 \n",
      " 104/01/13 3,497,838,901 99,286,437,370 819,762 7,181.54 -5.04 \n",
      " 104/01/16 3,184,795,667 76,842,611,338 719,725 7,103.62 -77.92 \n",
      " 104/01/17 3,720,277,205 101,133,309,290 899,597 7,221.08 117.46 \n",
      " 104/01/18 4,088,756,925 113,988,641,382 1,020,420 7,233.69 12.61 \n",
      " 104/01/30 4,540,373,544 143,900,658,474 1,113,727 7,407.41 173.72 \n",
      " 104/01/31 5,486,734,180 162,361,181,834 1,283,951 7,517.08 109.67 \n"
     ]
    }
   ],
   "source": [
    "import csv\n",
    "f = open(\"example1.csv\",\"r\",encoding=\"utf-8\")\n",
    "csvData = csv.reader(f)\n",
    "print(type(csvData))\n",
    "csvList = list(csvData)\n",
    "#print(csvList)\n",
    "for csvData in csvList:\n",
    "    for data in csvData:\n",
    "        print(data,end=\" \")\n",
    "    print()    \n",
    "    "
   ]
  },
  {
   "attachments": {
    "2dce86e7-5ad4-4a33-aae1-8eba2ba3a096.png": {
     "image/png": "[encoded data removed]"
    }
   },
   "cell_type": "markdown",
   "id": "378231fe-aa34-4631-9c1b-f8818b64d6c1",
   "metadata": {},
   "source": [
    "## JSON\n",
    "\n",
    "![image.png](attachment:2dce86e7-5ad4-4a33-aae1-8eba2ba3a096.png)"
   ]
  },
  {
   "cell_type": "code",
   "execution_count": 13,
   "id": "1598b259-f1ed-4045-b499-d2dfc76fcae8",
   "metadata": {},
   "outputs": [
    {
     "name": "stdout",
     "output_type": "stream",
     "text": [
      "{'python': '課程', 'gjun': 100, 'python-class': True, 'Line': None}\n",
      "{\"python\": \"課程\", \"gjun\": 100, \"python-class\": true, \"Line\": null}\n"
     ]
    }
   ],
   "source": [
    "import json\n",
    "json1 = {'python':\"課程\",\"gjun\":100,\"python-class\":True,\"Line\":None}\n",
    "print(json1)\n",
    "jsonStr = json.dumps(json1,ensure_ascii=False)\n",
    "print(jsonStr)"
   ]
  },
  {
   "cell_type": "code",
   "execution_count": 19,
   "id": "17028620-5376-4301-bf5f-814f8b83a47d",
   "metadata": {},
   "outputs": [],
   "source": [
    "import json\n",
    "json2 = {'python':\"課程\",\"gjun\":100,\"python-class\":True,\"Line\":None}\n",
    "with open(\"data0.json\",\"w\",encoding=\"utf-8\") as outfile:\n",
    "    json.dump(json2,outfile,ensure_ascii=False)"
   ]
  },
  {
   "cell_type": "code",
   "execution_count": 23,
   "id": "b3104632-efae-496d-b4c1-5ee83fc6823c",
   "metadata": {},
   "outputs": [],
   "source": [
    "data = { }\n",
    "data['people'] = [ ]\n",
    "data['people'].append({\n",
    "    'name': 'Scott',\n",
    "    'website': 'stackabuse.com',\n",
    "    'from': 'Nebraska'\n",
    "})\n",
    "data['people'].append({\n",
    "    'name': 'Larry',\n",
    "    'website': 'google.com',\n",
    "    'from': 'Michigan'\n",
    "})\n",
    "with open(\"data.json\",\"w\",encoding=\"utf-8\") as outfile:\n",
    "    json.dump(data,outfile,ensure_ascii=False,indent=2)\n",
    "#data.json"
   ]
  },
  {
   "cell_type": "markdown",
   "id": "4816f6da-3062-4d61-80fc-5e5c041816cf",
   "metadata": {},
   "source": [
    "### Json 轉為 Python物件\n",
    "+ 以 json.loads( ) 函數從 JSON 字串中取出資料轉入 Python。\n",
    "+ 以 json.load( ) 函數從 JSON 檔案中取出資料轉入 Python。\n"
   ]
  },
  {
   "cell_type": "code",
   "execution_count": 26,
   "id": "c991553e-ff99-4da0-bc12-dd7354dffb76",
   "metadata": {},
   "outputs": [
    {
     "name": "stdout",
     "output_type": "stream",
     "text": [
      "{'python': 'good', 'gjun': 100, 'python-class': True, 'ICQ': None}\n",
      "<class 'dict'>\n",
      "100\n",
      "True\n"
     ]
    }
   ],
   "source": [
    "import json\n",
    "json1 = '{\"python\":\"good\",\"gjun\":100,\"python-class\":true,\"ICQ\":null}'\n",
    "json2 = json.loads(json1)\n",
    "print(json2)\n",
    "print(type(json2))\n",
    "print(json2[\"gjun\"])\n",
    "print(json2[\"python-class\"])"
   ]
  },
  {
   "cell_type": "code",
   "execution_count": 31,
   "id": "f856eda8-bb83-4be3-9426-ac57bd12112b",
   "metadata": {},
   "outputs": [
    {
     "name": "stdout",
     "output_type": "stream",
     "text": [
      "name : Scott website : stackabuse.com from : Nebraska \n",
      "name : Larry website : google.com from : Michigan \n"
     ]
    }
   ],
   "source": [
    "import json\n",
    "with open(\"data.json\",\"r\",encoding=\"utf-8\") as jsonFile:\n",
    "    data = json.load(jsonFile)\n",
    "    for p in data[\"people\"]:\n",
    "     for k in p:\n",
    "         print(k,\":\",p[k],end=\" \")\n",
    "     print()    \n",
    "        "
   ]
  },
  {
   "cell_type": "markdown",
   "id": "58b5ec7d-f12b-4095-ba11-9381e4d4ad29",
   "metadata": {},
   "source": [
    "## 關於檔案關閉動作\n",
    "+ 檔案開啟後須進行 close( ) 方法進行關閉動作。\n",
    "+ 若檔案沒關閉會造成：\n",
    "  + 開啟的文件物件會占用系統資源。\n",
    "  + Python 可以同時間開啟的文件數量有限制 (約 20 份文件)。\n",
    "  + 開啟文件物件的模式若為寫入 (w 或 a) 模式，一般都是暫存於緩衝區，系統閒置或文件關閉前才會進行寫入，若沒有進行 close( ) 動作可能造成文件儲存不完整。"
   ]
  },
  {
   "cell_type": "code",
   "execution_count": 34,
   "id": "76d8a77a-fa2b-4c73-8a04-1330ebdf8792",
   "metadata": {},
   "outputs": [
    {
     "name": "stdout",
     "output_type": "stream",
     "text": [
      "Success\n"
     ]
    }
   ],
   "source": [
    "import os\n",
    "class TestFile:\n",
    "    def openFile(self,filePath):\n",
    "        self.handle = open(filePath,\"w\")\n",
    "        self.handle.close()\n",
    "t = TestFile()\n",
    "t.openFile(\"test.txt\")\n",
    "os.remove(\"test.txt\")\n",
    "print(\"Success\")"
   ]
  },
  {
   "cell_type": "code",
   "execution_count": 36,
   "id": "9931b54e-0800-4be1-a668-2b6651427bc5",
   "metadata": {},
   "outputs": [
    {
     "name": "stdout",
     "output_type": "stream",
     "text": [
      "Success\n"
     ]
    }
   ],
   "source": [
    "import os\n",
    "class TestFile:\n",
    "    def openFile(self,filePath):\n",
    "        with open(filePath,\"w\") as f:\n",
    "            f.write(\"Hello\")\n",
    "t = TestFile()\n",
    "t.openFile(\"test.txt\")\n",
    "os.remove(\"test.txt\")\n",
    "print(\"Success\")"
   ]
  },
  {
   "cell_type": "markdown",
   "id": "ae4410cd-5c5a-4cff-87e4-6cdc21289f44",
   "metadata": {},
   "source": [
    "## 壓縮與解壓縮 測試資料"
   ]
  },
  {
   "cell_type": "code",
   "execution_count": 39,
   "id": "aa501f06-b0c7-4b47-9146-55c09fa62e8a",
   "metadata": {},
   "outputs": [
    {
     "name": "stdout",
     "output_type": "stream",
     "text": [
      "建立目錄失敗\n",
      "完成附加檔案\n",
      "完成附加檔案\n",
      "查看目錄內容:\n"
     ]
    },
    {
     "data": {
      "text/plain": [
       "['test2.txt', 'test3.txt']"
      ]
     },
     "execution_count": 39,
     "metadata": {},
     "output_type": "execute_result"
    }
   ],
   "source": [
    "import os\n",
    "try:\n",
    "    os.mkdir(\"test2\")\n",
    "    print(\"建立目錄\")\n",
    "except:\n",
    "    print(\"建立目錄失敗\")\n",
    "\n",
    "with open(\"./test2/test2.txt\",'a') as file2:\n",
    "    file2.write(\"Python in Fun\")\n",
    "    print(\"完成附加檔案\")\n",
    "\n",
    "with open(\"./test2/test3.txt\",\"a\") as file3:\n",
    "    file3.write(\"Java is Fun\")\n",
    "    print(\"完成附加檔案\")\n",
    "print(\"查看目錄內容:\")\n",
    "os.listdir(\"./test2\")"
   ]
  },
  {
   "cell_type": "markdown",
   "id": "24462674-d778-4665-affe-0443ef89597c",
   "metadata": {},
   "source": [
    "## 壓縮與解壓縮\n",
    "### 但可以於Python程式內運用，可實現以下功能：\n",
    "#### 建立zip壓縮檔案\n",
    "+ 透過zipfile.ZipFile( )建立物件，再透過物件的write()動作將資料夾壓縮。\n",
    "#### 解壓縮zip壓縮檔案\n",
    "+ 透過zipfile.ZipFile( )建立物件，再透過物件的extractall()動作解壓縮。\n",
    "#### 列出zip壓縮檔案內容\n",
    "+透過zipfile.ZipFile( )建立物件，再透過物件的namelist()動作查看。\n",
    "\n",
    "\n",
    "pyminizip  \n",
    "\n",
    "zipstream\n"
   ]
  },
  {
   "cell_type": "code",
   "execution_count": 42,
   "id": "bbebf50e-00c3-4d0d-889c-2329f0eaa292",
   "metadata": {},
   "outputs": [],
   "source": [
    "import zipfile\n",
    "import os\n",
    "def create_zip(path):\n",
    "   zf =  zipfile.ZipFile(f\"{path}.zip\",\"w\",zipfile.ZIP_DEFLATED)\n",
    "   for root,dirs,files in os.walk(path):  \n",
    "            for f in files:\n",
    "              fPath =  os.path.join(root,f)\n",
    "              zf.write(fPath)\n",
    "              #print(fPath)  \n",
    "create_zip(\"test2\")    "
   ]
  },
  {
   "cell_type": "code",
   "execution_count": 43,
   "id": "6b1a3996-9d4f-46ec-b642-6f0c841df868",
   "metadata": {},
   "outputs": [
    {
     "name": "stdout",
     "output_type": "stream",
     "text": [
      "['test2/test2.txt', 'test2/test3.txt']\n"
     ]
    }
   ],
   "source": [
    "def ziplist(file_path):\n",
    "    zf = zipfile.ZipFile(file_path,\"r\")\n",
    "    print(zf.namelist())\n",
    "ziplist(\"test2.zip\")"
   ]
  },
  {
   "cell_type": "markdown",
   "id": "14203968-4ba6-4bc3-a1e7-f8d4db64019d",
   "metadata": {},
   "source": [
    "import shutil\n",
    "try:\n",
    "    print(\"刪除目錄\")\n",
    "    shutil.rmtree(\"test2\")\n",
    "except:\n",
    "    print(\"刪除目錄失敗\")"
   ]
  },
  {
   "cell_type": "code",
   "execution_count": 45,
   "id": "24cd9891-b11e-4e41-a62e-20ed12fafc4b",
   "metadata": {},
   "outputs": [
    {
     "name": "stdout",
     "output_type": "stream",
     "text": [
      "解壓縮\n"
     ]
    }
   ],
   "source": [
    "def extra_zip(file_path):\n",
    "    zf = zipfile.ZipFile(file_path,\"r\")\n",
    "    zf.extractall()\n",
    "try:\n",
    "    print(\"解壓縮\")\n",
    "    extra_zip(\"test2.zip\")\n",
    "except:\n",
    "    print(\"解壓縮失敗\")"
   ]
  },
  {
   "cell_type": "markdown",
   "id": "d26fc780-9a05-4e1d-8b74-3262119ab77c",
   "metadata": {},
   "source": [
    "## BeautifulSoup\n",
    "\n",
    "pip install beautifulsoup4\n",
    "\n",
    "pip install html5lib\n",
    "\n"
   ]
  },
  {
   "cell_type": "code",
   "execution_count": 2,
   "id": "b36f73b6-b84c-4369-8d22-1c1e5645641c",
   "metadata": {},
   "outputs": [],
   "source": [
    "from bs4 import BeautifulSoup\n",
    "html = \"<a > V1</a>\"\n",
    "soup = BeautifulSoup(html,\"html5lib\")\n"
   ]
  },
  {
   "cell_type": "code",
   "execution_count": 5,
   "id": "2710d0a8-edcc-4345-9536-12487a2cb5e2",
   "metadata": {},
   "outputs": [
    {
     "name": "stdout",
     "output_type": "stream",
     "text": [
      "<a class=\"c1\" id=\"a1\">V1</a>\n",
      "[<a class=\"c1\" id=\"a1\">V1</a>, <a class=\"c1\" id=\"a2\">V2</a>]\n"
     ]
    }
   ],
   "source": [
    "from bs4 import BeautifulSoup\n",
    "html='''<a id='a1' class=\"c1\">V1</a>\n",
    "<a id='a2' class=\"c1\">V2</a>\n",
    "<a id='a3' class=\"c3\">V3</a>\n",
    "'''\n",
    "soup = BeautifulSoup(html,\"html5lib\")\n",
    "print(soup.find(id=\"a1\"))\n",
    "print(soup.find_all(class_=\"c1\"))"
   ]
  },
  {
   "cell_type": "code",
   "execution_count": 8,
   "id": "30754904-d0dc-4420-8735-599cc59328f3",
   "metadata": {},
   "outputs": [
    {
     "name": "stdout",
     "output_type": "stream",
     "text": [
      "Google\n",
      "https://google.com\n",
      "https://google.com Google\n",
      "https://yahoo.com Yahoo\n"
     ]
    }
   ],
   "source": [
    "html='''<a id='a1' class=\"c1\" href=\"https://google.com\">Google</a>\n",
    "<a id='a2' class=\"c1\"  href=\"https://yahoo.com\">Yahoo</a>\n",
    "<a id='a3' class=\"c3\" href=\"https://facebook.com\">Facebook</a>\n",
    "'''\n",
    "soup = BeautifulSoup(html,\"html5lib\")\n",
    "print(soup.find(id=\"a1\").getText())\n",
    "print(soup.find(id=\"a1\").get(\"href\"))\n",
    "\n",
    "tmpList = soup.find_all(class_=\"c1\")\n",
    "for tag in tmpList:\n",
    "    print(tag.get(\"href\"),tag.text)"
   ]
  },
  {
   "cell_type": "code",
   "execution_count": 16,
   "id": "3e86346d-3d8e-4854-92d5-81ad540cf015",
   "metadata": {},
   "outputs": [
    {
     "name": "stdout",
     "output_type": "stream",
     "text": [
      "class與id練習測試h1標籤\n"
     ]
    }
   ],
   "source": [
    "import bs4\n",
    "htmlFile = open(\"web1.html\",encoding=\"utf-8\")\n",
    "objSoup = bs4.BeautifulSoup(htmlFile,\"html5lib\")\n",
    "objTag = objSoup.find(\"h1\")\n",
    "print(objTag.text)"
   ]
  },
  {
   "cell_type": "code",
   "execution_count": 20,
   "id": "d06fd90e-6cc7-48ed-923a-846eb5ca1bd1",
   "metadata": {},
   "outputs": [
    {
     "name": "stdout",
     "output_type": "stream",
     "text": [
      "class與id練習測試h1標籤\n",
      "國家首都資料表\n",
      "h1標籤測試1\n",
      "h1標籤測試2\n",
      "h1標籤測試3\n",
      "h1標籤測試4\n",
      "<h2>class與id練習測試h2標籤</h2>\n",
      "<h2>程式語言清單</h2>\n"
     ]
    }
   ],
   "source": [
    "htmlFile = open(\"web1.html\",encoding=\"utf-8\")\n",
    "objSoup = bs4.BeautifulSoup(htmlFile,\"html5lib\")\n",
    "allTag =  objSoup.find_all(\"h1\")\n",
    "for tag in allTag:\n",
    "    print(tag.text)\n",
    "objTag2 = objSoup.find_all(\"h2\",limit=2)\n",
    "for data in objTag2:\n",
    "    print(data)"
   ]
  },
  {
   "cell_type": "code",
   "execution_count": 23,
   "id": "1cca2f3c-deab-4972-b982-0b1974c8348b",
   "metadata": {},
   "outputs": [
    {
     "name": "stdout",
     "output_type": "stream",
     "text": [
      "<span class=\"class1\">各種</span>\n",
      "各種\n"
     ]
    }
   ],
   "source": [
    "htmlFile = open(\"web1.html\",encoding=\"utf-8\")\n",
    "objSoup = bs4.BeautifulSoup(htmlFile,\"html5lib\")\n",
    "objTag = objSoup.find_all(\"span\",class_=\"class1\")\n",
    "for data in objTag:\n",
    "    print(data)\n",
    "    print(data.text)"
   ]
  },
  {
   "cell_type": "code",
   "execution_count": 24,
   "id": "e9b369b5-d493-494c-8845-7818afbe15df",
   "metadata": {},
   "outputs": [
    {
     "name": "stdout",
     "output_type": "stream",
     "text": [
      "<div class=\"class1\">故宮博物院</div>\n",
      "故宮博物院\n",
      "<div class=\"class2\">日月潭</div>\n",
      "日月潭\n",
      "<div class=\"class2 class3\">阿里山</div>\n",
      "阿里山\n"
     ]
    }
   ],
   "source": [
    "import bs4\n",
    "htmlFile = open('web1.html',encoding=\"utf8\",errors='ignore')\n",
    "objSoup = bs4.BeautifulSoup(htmlFile, 'html5lib')\n",
    "objTag = objSoup.find_all(\"div\",{'class':{'class1',\"class2\"}})\n",
    "for data in objTag:\n",
    "    print(data)\n",
    "    print(data.text)"
   ]
  },
  {
   "cell_type": "markdown",
   "id": "0ff33dde-6f71-4fdd-9e08-c6a5304d0478",
   "metadata": {},
   "source": [
    "## 標籤回傳內容\n",
    "\n",
    ".string 會返回標籤最裡面的內容，如果標籤內還有其他子節點(若有子標籤，代表不是單純的字串)，而會輸出 None。\n",
    "\n",
    ".strings 可以獲得多個內容，但需要加上迴圈進行資料查找處理。\n",
    "\n",
    ".stripped_strings 可將輸出的字串中空白內容去除。 \n",
    "\n",
    "repr(）方法可將物件或其他資料轉換為字串進行輸出!\n"
   ]
  },
  {
   "cell_type": "code",
   "execution_count": 38,
   "id": "f56eefc6-8f8b-4d53-87f3-9beb29cc5060",
   "metadata": {},
   "outputs": [
    {
     "name": "stdout",
     "output_type": "stream",
     "text": [
      "----------------------------------------------------------------------\n",
      "故宮博物院\n",
      "日月潭\n",
      "阿里山\n",
      "----------------------------------------------------------------------\n"
     ]
    }
   ],
   "source": [
    "htmlFile = open(\"web1.html\",encoding=\"utf-8\",errors='ignore')\n",
    "objSoup = bs4.BeautifulSoup(htmlFile,\"html5lib\")\n",
    "objTag = objSoup.find_all(\"div\",{\"class\":{\"class1\",\"class2\"}})\n",
    "print(\"-\"*70)\n",
    "for data in objTag:\n",
    "    #print(data)\n",
    "    print(data.string)\n",
    "print(\"-\"*70)\n",
    "\n"
   ]
  },
  {
   "cell_type": "code",
   "execution_count": 41,
   "id": "4662b104-cd33-475c-9099-42de99c12d53",
   "metadata": {},
   "outputs": [
    {
     "name": "stdout",
     "output_type": "stream",
     "text": [
      "\n",
      "    \n",
      "\n",
      "    \n",
      "選擇元素\n",
      "\n",
      "\n",
      "\n",
      " #id1{ color: red;}\n",
      " .class1 {color: green;}\n",
      " .class2 {color: blue;} \n",
      " .class3 { background-color: yellow;}\n",
      "\n",
      " \n",
      "\n",
      "\t\n",
      "\n",
      "\n",
      "\n",
      "\n",
      "\n",
      "\n",
      "\n",
      "    \n",
      "\n",
      "        \n",
      "Hello\n",
      "\t\n",
      "    \n",
      "\n",
      "    \n",
      "\n",
      "        \n",
      "\n",
      "            \n",
      "Foo\n",
      "\n",
      "            \n",
      "Bar\n",
      "\n",
      "            \n",
      "Jay\n",
      "\n",
      "        \n",
      "\n",
      "        \n",
      "\n",
      "            \n",
      "Foo\n",
      "\n",
      "            \n",
      "Bar\n",
      "\n",
      "        \n",
      "\n",
      "    \n",
      "\n",
      "\n",
      "\n",
      "\n",
      "\n",
      "class與id練習測試h1標籤\n",
      "\n",
      "\n",
      "class與id練習測試h2標籤\n",
      "\n",
      "\n",
      "故宮博物院\n",
      "\n",
      "\n",
      "日月潭\n",
      "\n",
      "\n",
      "阿里山\n",
      "\n",
      "\n",
      "士林夜市\n",
      "\n",
      "\n",
      "各種\n",
      "span的\n",
      "運用\n",
      "。\n",
      "\n",
      "程式語言清單\n",
      "\n",
      "\n",
      "\n",
      "   \n",
      "Python\n",
      "Java\n",
      "C#\n",
      "\n",
      "\n",
      "\n",
      "\n",
      "以下為圖片\n",
      "\n",
      "\n",
      "\n",
      "\n",
      "   \n",
      "\n",
      "      \n",
      "表格測試\n",
      "\n",
      "      \n",
      "th1\n",
      "th2\n",
      "th3\n",
      "\n",
      "   \n",
      "\n",
      "   \n",
      "\n",
      "      \n",
      "tr1td1\n",
      "tr1td3\n",
      "\n",
      "      \n",
      "tr2td1\n",
      "tr2td2\n",
      " \n",
      "\n",
      "      \n",
      " \n",
      "tr3td2\n",
      "tr3td3\n",
      "\n",
      "   \n",
      "\n",
      "   \n",
      "\n",
      "      \n",
      "td_col3\n",
      "\n",
      "   \n",
      "\n",
      "\n",
      "\n",
      "\n",
      "國家首都資料表\n",
      "\n",
      "\n",
      "\n",
      "   \n",
      "Washington\n",
      "\n",
      "      \n",
      "美國首都\n",
      "\n",
      "   \n",
      "Tokyo\n",
      "\n",
      "      \n",
      "日本首都\n",
      "\n",
      "   \n",
      "Paris\n",
      "\n",
      "      \n",
      "法國首都\n",
      "\n",
      "\n",
      "\n",
      "\n",
      "p之前div1\n",
      "\n",
      "\n",
      "p之前div2\n",
      "\n",
      "\n",
      "p標籤0\n",
      "\n",
      "\n",
      "粗體字 p1\n",
      "\n",
      "\n",
      "p標籤2\n",
      "\n",
      "\n",
      "p標籤3\n",
      "\n",
      "\n",
      "h1標籤測試1\n",
      "\n",
      "\n",
      "h1標籤測試2\n",
      "\n",
      "\n",
      "h1標籤測試3\n",
      "\n",
      "\n",
      "h1標籤測試4\n",
      "\n",
      "\n",
      "h2標籤測試1\n",
      "\n",
      "\n",
      "h2標籤測試2\n",
      "\n",
      "\n",
      "h2標籤測試3\n",
      "\n",
      "\n",
      "h2標籤測試4\n",
      "\n",
      "\n",
      "h3標籤測試1\n",
      "\n",
      "\n",
      "h4標籤測試1\n",
      "\n",
      "\n",
      "\n",
      "\n"
     ]
    }
   ],
   "source": [
    "htmlFile = open(\"web1.html\",encoding=\"utf-8\")\n",
    "objSoup = bs4.BeautifulSoup(htmlFile,\"html5lib\")\n",
    "for string in objSoup.strings:\n",
    "    print(string)"
   ]
  },
  {
   "cell_type": "code",
   "execution_count": null,
   "id": "c1b2670c-6fb0-448d-b28b-2e9168af41b6",
   "metadata": {},
   "outputs": [],
   "source": []
  }
 ],
 "metadata": {
  "kernelspec": {
   "display_name": "Python 3 (ipykernel)",
   "language": "python",
   "name": "python3"
  },
  "language_info": {
   "codemirror_mode": {
    "name": "ipython",
    "version": 3
   },
   "file_extension": ".py",
   "mimetype": "text/x-python",
   "name": "python",
   "nbconvert_exporter": "python",
   "pygments_lexer": "ipython3",
   "version": "3.11.9"
  }
 },
 "nbformat": 4,
 "nbformat_minor": 5
}
