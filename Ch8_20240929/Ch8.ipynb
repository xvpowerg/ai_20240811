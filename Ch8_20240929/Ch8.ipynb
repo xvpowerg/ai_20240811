{
 "cells": [
  {
   "cell_type": "code",
   "execution_count": 4,
   "id": "c9a4c2c1-be88-4ae4-b0b4-12b5f611505f",
   "metadata": {},
   "outputs": [
    {
     "name": "stdout",
     "output_type": "stream",
     "text": [
      "[<tr>\n",
      "<th>排名</th>\n",
      "<th>片名</th>\n",
      "<th>發行商</th>\n",
      "<th>全球票房\n",
      "</th></tr>, <tr>\n",
      "<th>1\n",
      "</th>\n",
      "<td style=\"background:#b6fcb6;\">《<a href=\"/wiki/%E8%85%A6%E7%AD%8B%E6%80%A5%E8%BD%89%E5%BD%8E2\" title=\"腦筋急轉彎2\">腦筋急轉彎2</a>》†\n",
      "</td>\n",
      "<td><a href=\"/wiki/%E8%8F%AF%E7%89%B9%E8%BF%AA%E5%A3%AB%E5%B0%BC%E5%B7%A5%E4%BD%9C%E5%AE%A4%E9%9B%BB%E5%BD%B1\" title=\"華特迪士尼工作室電影\">迪士尼</a>\n",
      "</td>\n",
      "<td>$1,687,299,613\n",
      "</td></tr>, <tr>\n",
      "<th>2\n",
      "</th>\n",
      "<td style=\"background:#b6fcb6;\">《<a href=\"/wiki/%E6%AD%BB%E4%BE%8D%E8%88%87%E9%87%91%E9%8B%BC%E7%8B%BC\" title=\"死侍與金鋼狼\">死侍與金鋼狼</a>》†\n",
      "</td>\n",
      "<td><a href=\"/wiki/%E8%8F%AF%E7%89%B9%E8%BF%AA%E5%A3%AB%E5%B0%BC%E5%B7%A5%E4%BD%9C%E5%AE%A4%E9%9B%BB%E5%BD%B1\" title=\"華特迪士尼工作室電影\">迪士尼</a>\n",
      "</td>\n",
      "<td>$1,318,568,740\n",
      "</td></tr>, <tr>\n",
      "<th>3\n",
      "</th>\n",
      "<td style=\"background:#b6fcb6;\">《<a href=\"/wiki/%E7%A5%9E%E5%81%B7%E5%A5%B6%E7%88%B84\" title=\"神偷奶爸4\">神偷奶爸4</a>》†\n",
      "</td>\n",
      "<td><a href=\"/wiki/%E7%8E%AF%E7%90%83%E5%BD%B1%E4%B8%9A\" title=\"環球影業\">環球影業</a>\n",
      "</td>\n",
      "<td>$948,719,095\n",
      "</td></tr>, <tr>\n",
      "<th>4\n",
      "</th>\n",
      "<td>《<a href=\"/wiki/%E6%B2%99%E4%B8%98%EF%BC%9A%E7%AC%AC%E4%BA%8C%E9%83%A8\" title=\"沙丘：第二部\">沙丘：第二部</a>》\n",
      "</td>\n",
      "<td><a href=\"/wiki/%E5%8D%8E%E7%BA%B3%E5%85%84%E5%BC%9F%E5%BD%B1%E4%B8%9A\" title=\"華納兄弟影業\">華納兄弟</a>\n",
      "</td>\n",
      "<td>$711,844,358\n",
      "</td></tr>, <tr>\n",
      "<th>5\n",
      "</th>\n",
      "<td>《<a href=\"/wiki/%E5%93%A5%E5%90%89%E6%8B%89%E8%88%87%E9%87%91%E5%89%9B%EF%BC%9A%E6%96%B0%E5%B8%9D%E5%9C%8B\" title=\"哥吉拉與金剛：新帝國\">哥吉拉與金剛：新帝國</a>》\n",
      "</td>\n",
      "<td><a href=\"/wiki/%E5%8D%8E%E7%BA%B3%E5%85%84%E5%BC%9F%E5%BD%B1%E4%B8%9A\" title=\"華納兄弟影業\">華納兄弟</a> / <a href=\"/wiki/%E6%9D%B1%E5%AF%B6\" title=\"東寶\">東寶</a>\n",
      "</td>\n",
      "<td>$567,650,016\n",
      "</td></tr>, <tr>\n",
      "<th>6\n",
      "</th>\n",
      "<td>《<a href=\"/wiki/%E5%8A%9F%E5%A4%AB%E7%86%8A%E8%B2%934\" title=\"功夫熊貓4\">功夫熊貓4</a>》\n",
      "</td>\n",
      "<td><a href=\"/wiki/%E7%8E%AF%E7%90%83%E5%BD%B1%E4%B8%9A\" title=\"環球影業\">環球影業</a>\n",
      "</td>\n",
      "<td>$549,141,851\n",
      "</td></tr>, <tr>\n",
      "<th>7\n",
      "</th>\n",
      "<td>《<a href=\"/wiki/%E7%83%AD%E8%BE%A3%E6%BB%9A%E7%83%AB\" title=\"熱辣滾燙\">熱辣滾燙</a>》\n",
      "</td>\n",
      "<td><a href=\"/wiki/%E4%B8%AD%E5%9B%BD%E7%94%B5%E5%BD%B1%E9%9B%86%E5%9B%A2\" title=\"中國電影集團\">中國電影集團</a>\n",
      "</td>\n",
      "<td>$479,597,304\n",
      "</td></tr>, <tr>\n",
      "<th>8\n",
      "</th>\n",
      "<td>《<a href=\"/wiki/%E9%A3%9E%E9%A9%B0%E4%BA%BA%E7%94%9F2\" title=\"飛馳人生2\">飛馳人生2</a>》\n",
      "</td>\n",
      "<td><a href=\"/wiki/%E5%A4%A9%E6%B4%A5%E7%8C%AB%E7%9C%BC%E5%BE%AE%E5%BD%B1%E6%96%87%E5%8C%96%E4%BC%A0%E5%AA%92\" title=\"天津貓眼微影文化傳媒\">天津貓眼微影文化傳媒</a>\n",
      "</td>\n",
      "<td>$466,930,272\n",
      "</td></tr>, <tr>\n",
      "<th>9\n",
      "</th>\n",
      "<td style=\"background:#b6fcb6;\">《<a href=\"/wiki/%E6%8A%93%E5%A8%83%E5%A8%83_(%E7%94%B5%E5%BD%B1)\" title=\"抓娃娃 (電影)\">抓娃娃</a>》†\n",
      "</td>\n",
      "<td><a class=\"mw-redirect\" href=\"/wiki/%E4%B8%87%E8%BE%BE%E7%94%B5%E5%BD%B1\" title=\"萬達電影\">萬達電影</a>\n",
      "</td>\n",
      "<td>$445,027,050<sup class=\"reference\" id=\"cite_ref-3\"><a href=\"#cite_note-3\"><span class=\"cite-bracket\">[</span>3<span class=\"cite-bracket\">]</span></a></sup><sup class=\"reference\" id=\"cite_ref-4\"><a href=\"#cite_note-4\"><span class=\"cite-bracket\">[</span>4<span class=\"cite-bracket\">]</span></a></sup>\n",
      "</td></tr>, <tr>\n",
      "<th>10\n",
      "</th>\n",
      "<td>《<a href=\"/wiki/%E7%B5%95%E5%9C%B0%E6%88%B0%E8%AD%A6%EF%BC%9A%E7%94%9F%E6%AD%BB%E8%88%87%E5%85%B1\" title=\"絕地戰警：生死與共\">絕地戰警：生死與共</a>》\n",
      "</td>\n",
      "<td><a href=\"/wiki/%E7%B4%A2%E5%B0%BC%E5%BD%B1%E8%A6%96%E5%A8%9B%E6%A8%82\" title=\"索尼影視娛樂\">索尼</a>\n",
      "</td>\n",
      "<td>$404,080,232\n",
      "</td></tr>]\n"
     ]
    }
   ],
   "source": [
    "import requests\n",
    "from bs4 import BeautifulSoup\n",
    "url = \"https://zh.wikipedia.org/zh-tw/2024%E5%B9%B4%E7%94%B5%E5%BD%B1\"\n",
    "resp = requests.get(url)\n",
    "resp.encoding = \"utf-8\"\n",
    "#print(resp.text)\n",
    "soup = BeautifulSoup(resp.text,\"html5lib\")\n",
    "movieTable = soup.find(\"table\",class_=\"wikitable sortable\")\n",
    "tbody = movieTable.find(\"tbody\")\n",
    "trList = tbody.find_all(\"tr\")\n",
    "print(trList)"
   ]
  },
  {
   "cell_type": "code",
   "execution_count": 8,
   "id": "27bd069f-8530-4242-a72f-4f299821869d",
   "metadata": {},
   "outputs": [
    {
     "name": "stdout",
     "output_type": "stream",
     "text": [
      "排名: 1\n",
      "片名: 腦筋急轉彎2\n",
      "全球票房: $1,687,299,613\n",
      "\n",
      "排名: 2\n",
      "片名: 死侍與金鋼狼\n",
      "全球票房: $1,318,568,740\n",
      "\n",
      "排名: 3\n",
      "片名: 神偷奶爸4\n",
      "全球票房: $948,719,095\n",
      "\n",
      "排名: 4\n",
      "片名: 沙丘：第二部\n",
      "全球票房: $711,844,358\n",
      "\n",
      "排名: 5\n",
      "片名: 哥吉拉與金剛：新帝國\n",
      "全球票房: $567,650,016\n",
      "\n",
      "排名: 6\n",
      "片名: 功夫熊貓4\n",
      "全球票房: $549,141,851\n",
      "\n",
      "排名: 7\n",
      "片名: 熱辣滾燙\n",
      "全球票房: $479,597,304\n",
      "\n",
      "排名: 8\n",
      "片名: 飛馳人生2\n",
      "全球票房: $466,930,272\n",
      "\n",
      "排名: 9\n",
      "片名: 抓娃娃\n",
      "全球票房: $445,027,050[3][4]\n",
      "\n",
      "排名: 10\n",
      "片名: 絕地戰警：生死與共\n",
      "全球票房: $404,080,232\n",
      "\n"
     ]
    }
   ],
   "source": [
    "import requests\n",
    "from bs4 import BeautifulSoup\n",
    "url = \"https://zh.wikipedia.org/zh-tw/2024%E5%B9%B4%E7%94%B5%E5%BD%B1\"\n",
    "resp = requests.get(url)\n",
    "resp.encoding = \"utf-8\"\n",
    "#print(resp.text)\n",
    "soup = BeautifulSoup(resp.text,\"html5lib\")\n",
    "movieTable = soup.find(\"table\",class_=\"wikitable sortable\")\n",
    "tbody = movieTable.find(\"tbody\")\n",
    "trList = tbody.find_all(\"tr\")\n",
    "#print(trList)\n",
    "for i in range(1,len(trList)):\n",
    "    print(\"排名:\",trList[i].find(\"th\").text,end=\"\")\n",
    "    print(\"片名:\",trList[i].select_one(\"a\").text)\n",
    "    print(\"全球票房:\",trList[i].find_all(\"td\")[-1].text)"
   ]
  },
  {
   "cell_type": "markdown",
   "id": "8457530e-3b2f-471f-97ba-92c36af88daf",
   "metadata": {},
   "source": [
    "## Numpy\n",
    "+ 可做到的功能\n",
    "  + 快速的多維陣列操作。\n",
    "  + 可靠的科學功能函數庫。\n",
    "  + 可協助繪圖工具進行繪圖。\n",
    "+ NumPy 是幾乎每個科學 Python 應用程序或模組的核心，它提供了以向量化形式的快速 N-d 陣列類型可供操作。"
   ]
  },
  {
   "cell_type": "code",
   "execution_count": 12,
   "id": "2808823c-4508-4ec4-a93d-9e62a917c3d1",
   "metadata": {},
   "outputs": [
    {
     "name": "stdout",
     "output_type": "stream",
     "text": [
      "<class 'list'>\n",
      "<class 'numpy.ndarray'>\n",
      "[1 2 3 5 7 9]\n",
      "[1, 2, 3, 5, 7, 9, 3, 5, 3, 6, 7, 9]\n",
      "[ 4  7  6 11 14 18]\n"
     ]
    }
   ],
   "source": [
    "import numpy as np\n",
    "a = [1,2,3,5,7,9]\n",
    "b = [3,5,3,6,7,9]\n",
    "print(type(a))\n",
    "np1 = np.array(a)\n",
    "np2 = np.array(b)\n",
    "print(type(np1))\n",
    "print(np1)\n",
    "c = a + b\n",
    "print(c)\n",
    "np3 = np1 + np2\n",
    "print(np3)"
   ]
  },
  {
   "cell_type": "markdown",
   "id": "cb546d50-b60c-4780-9629-9fa6e6cf7abf",
   "metadata": {},
   "source": [
    "+ ndarray.ndim\n",
    "   + 維度的數量。\n",
    "+ ndarray.shape\n",
    "   + 顯示出陣列在每個維度上的整數值。\n",
    "+ ndarray.size\n",
    "   + 陣列內元素的總數。\n",
    "+ ndarray.dtype\n",
    "   + 用來描述陣列中元素類型的對象。\n",
    " \n",
    "https://www.runoob.com/numpy/numpy-dtype.html"
   ]
  },
  {
   "cell_type": "code",
   "execution_count": 21,
   "id": "bad5ea0c-91e5-448f-9056-637336e47653",
   "metadata": {},
   "outputs": [
    {
     "name": "stdout",
     "output_type": "stream",
     "text": [
      "2\n",
      "(2, 3)\n",
      "6\n",
      "uint16\n"
     ]
    }
   ],
   "source": [
    "import numpy as np\n",
    "i = [[1,2,3],\n",
    "     [4,5,6]]\n",
    "a = np.array(i,dtype=np.uint16)\n",
    "print(a.ndim)\n",
    "#軸 axis\n",
    "print(a.shape)\n",
    "print(a.size)\n",
    "print(a.dtype)"
   ]
  },
  {
   "cell_type": "code",
   "execution_count": 30,
   "id": "6ae51aa4-ce53-464d-af0b-b01e4f565426",
   "metadata": {},
   "outputs": [
    {
     "name": "stdout",
     "output_type": "stream",
     "text": [
      "[6 7 8 9]\n",
      "[0 1 2 3]\n",
      "[6 6 6 6]\n",
      "[0 1 4 9]\n",
      "[False  True  True False  True]\n",
      "[-1  3  0]\n",
      "[5 1 1 9 1]\n"
     ]
    }
   ],
   "source": [
    "import numpy as np\n",
    "a = np.array([6,7,8,9])\n",
    "b = np.arange(4)\n",
    "print(a)\n",
    "print(b)\n",
    "c = a - b\n",
    "print(c)\n",
    "d = b ** 2\n",
    "print(d)\n",
    "f = np.array([5,-1,3,9,0])\n",
    "print(f <= 3)\n",
    "print(f[f <= 3])\n",
    "f[f <= 3] = 1\n",
    "print(f)"
   ]
  },
  {
   "cell_type": "code",
   "execution_count": 39,
   "id": "0e56f9ba-83b3-426e-ab32-19521da577c7",
   "metadata": {},
   "outputs": [
    {
     "name": "stdout",
     "output_type": "stream",
     "text": [
      "[[1. 1. 1. 1.]\n",
      " [1. 1. 1. 1.]]\n",
      "==============================\n",
      "[[0. 0. 0. 0.]\n",
      " [0. 0. 0. 0.]]\n"
     ]
    }
   ],
   "source": [
    "import numpy as np\n",
    "x = np.empty((2,4))\n",
    "print(x)\n",
    "print(\"==============================\")\n",
    "x = np.zeros((2,4))\n",
    "print(x)"
   ]
  },
  {
   "cell_type": "code",
   "execution_count": 46,
   "id": "bd3a31bd-955a-4fb5-9307-22a65c85475f",
   "metadata": {},
   "outputs": [
    {
     "name": "stdout",
     "output_type": "stream",
     "text": [
      "[[1. 1. 1. 1.]\n",
      " [1. 1. 1. 1.]]\n",
      "[[5 5 5 5]\n",
      " [5 5 5 5]]\n"
     ]
    }
   ],
   "source": [
    "x = np.ones((2,4))\n",
    "print(x)\n",
    "x = np.full((2,4),5)\n",
    "print(x)"
   ]
  },
  {
   "cell_type": "code",
   "execution_count": 64,
   "id": "5e895183-ed26-42aa-9c96-8618132d2f1a",
   "metadata": {},
   "outputs": [
    {
     "name": "stdout",
     "output_type": "stream",
     "text": [
      "[[1. 0. 0.]\n",
      " [0. 1. 0.]\n",
      " [0. 0. 1.]]\n",
      "x: [[1 0 0]\n",
      " [0 2 0]\n",
      " [0 0 3]]\n"
     ]
    }
   ],
   "source": [
    "import numpy as np\n",
    "x = np.eye(3)\n",
    "print(x)\n",
    "x = np.diag([1,2,3])\n",
    "print(\"x:\",x)"
   ]
  },
  {
   "cell_type": "markdown",
   "id": "475b8f7a-5a8b-48c7-a32d-09fe97998ddd",
   "metadata": {},
   "source": [
    "## 陣列初始化與重新規劃\n",
    "+ 針對初始化這部分提供了多種方式：\n",
    "+ 不做初始化\n",
    "   + 例如：np.empty((2,4))\n",
    "+ 全部規劃為 0\n",
    "   + 例如：np.zeros((3,4))\n",
    "+　全部規劃為 1\n",
    "  + np.ones((5,2))\n",
    "+ 全部規劃／填滿為某數，例如 6\n",
    "   + 例如： np.full((3,3),6)\n",
    "+ 建立對角矩陣，對角皆為 1，其他為 0\n",
    "   + 例如： np.eye(3)\n",
    "+ 建立對角矩陣，對角為 1,2,3,4，其他為 0\n",
    "   + 例如： np.diag([1,2,3,4])\n",
    "+ reshape((x,y)) 這個指令就可以將現有的陣列  重新規劃為 x 乘以 y 的陣列。 \n",
    "+ np.arange(起始值, 結束值, 固定間隔)：也是產生一維陣列，和 np.array( ) 的差別在於 arange 擁有較大的彈性，而且元素數值是自動化產生。\n",
    "+ np.linspace(起始值, 結束值, 起始與結束的區間內要產生幾個元素 )：只要給定陣列的區間(起始值、結束值)，就可以要求在這個區間內產生幾個元素。\n",
    "+ arange(a,b,c)\n",
    "   + 不包含 b 由 a 開始 以固定間隔 c 來取值\n",
    "+ linspace(a,b,c,)\n",
    "   + 包含 b 由 a 開始 切割成 c 個資料\n",
    "+ linspace(a,b,c,endpoint=False)\n",
    "   + 不包含 b 由 a 開始 切割成 c 個資料"
   ]
  },
  {
   "cell_type": "markdown",
   "id": "c455483c-4d9a-448f-a44a-137db5d17c51",
   "metadata": {},
   "source": [
    "### linspace arange"
   ]
  },
  {
   "cell_type": "code",
   "execution_count": 86,
   "id": "a2208393-c0af-49ac-bb56-4615bb3f954e",
   "metadata": {},
   "outputs": [
    {
     "name": "stdout",
     "output_type": "stream",
     "text": [
      "[ 1.   2.8  4.6  6.4  8.2 10. ]\n",
      "[1.  2.5 4.  5.5 7.  8.5]\n",
      "[[ 2.  4.]\n",
      " [ 6.  8.]\n",
      " [10. 12.]\n",
      " [14. 16.]\n",
      " [18. 20.]]\n",
      "[[0 1]\n",
      " [2 3]\n",
      " [4 5]\n",
      " [6 7]]\n"
     ]
    }
   ],
   "source": [
    "import numpy as np\n",
    "x = np.linspace(1,10,6)\n",
    "print(x)\n",
    "y = np.linspace(1,10,6,endpoint=False)\n",
    "print(y)\n",
    "\n",
    "x = np.linspace(2,20,10).reshape((5,2))\n",
    "print(x)\n",
    "\n",
    "x = np.arange(8).reshape((4,2))\n",
    "print(x)\n"
   ]
  },
  {
   "cell_type": "code",
   "execution_count": 89,
   "id": "edce5146-eb15-4b46-971a-8bb776c1ac12",
   "metadata": {},
   "outputs": [
    {
     "name": "stdout",
     "output_type": "stream",
     "text": [
      "[25.  25.5 26.  26.5 27.  27.5 28.  28.5 29.  29.5]\n"
     ]
    }
   ],
   "source": [
    "import numpy as np\n",
    "r1 = np.arange(25,30,.5)\n",
    "print(r1)"
   ]
  },
  {
   "cell_type": "code",
   "execution_count": 96,
   "id": "be9bc500-ab2f-4e13-8724-2278294fa4d3",
   "metadata": {},
   "outputs": [
    {
     "name": "stdout",
     "output_type": "stream",
     "text": [
      "[3.   3.25 3.5  3.75 4.   4.25 4.5  4.75 5.  ]\n",
      "(9,)\n"
     ]
    }
   ],
   "source": [
    "# 3~5 取9切分段落\n",
    "import numpy as np\n",
    "lin = np.linspace(3,5,9)\n",
    "print(lin)\n",
    "print(lin.shape)"
   ]
  },
  {
   "cell_type": "markdown",
   "id": "de4f6276-588e-416f-855b-9328b3a73e95",
   "metadata": {},
   "source": [
    "## 陣列指定位置取值\n",
    "+ 間隔選取 [::c]\n",
    "  + 以 1 維陣列來說明 x[a:b:c]\n",
    "  + a：選取資料的起始索引\n",
    "  + b：選取資料的結束索引 +1\n",
    "  + c：選取資料間隔，以索引值可以被此值整除的元素，不指定表示 1\n",
    "+ 倒序 [::-1]\n",
    "  + 只是單純的把順序反過來"
   ]
  },
  {
   "cell_type": "markdown",
   "id": "e59c8f24-b956-4279-9019-0aa58bc89e44",
   "metadata": {},
   "source": [
    "## 陣列指定位置-給予一個整數\n",
    "+ 關於指定位置  [row,column]\n",
    "+ 假設給予一個整數為 N\n",
    " + 如果是給固定的 N，那就代表 row 或 column 等於 N。\n",
    " + 如果是 N：，那就代表 row 或 column 大於等於 N 的區域。\n",
    " + 如果是：N，那就代表 row 或 column 小於 N 的區域。 \n",
    " + 如果是：，那就代表 row 或 column 是任意欄位。"
   ]
  },
  {
   "cell_type": "code",
   "execution_count": 102,
   "id": "17cdba13-e49c-4b47-a5c3-8eb8a0b52a3d",
   "metadata": {},
   "outputs": [
    {
     "name": "stdout",
     "output_type": "stream",
     "text": [
      "[[1 2 3]\n",
      " [4 5 6]\n",
      " [7 8 9]]\n",
      "[1 2 3]\n",
      "8\n",
      "8\n",
      "6\n"
     ]
    }
   ],
   "source": [
    "import numpy as np\n",
    "a = np.arange(1,10).reshape((3,3))\n",
    "print(a)\n",
    "print(a[0])\n",
    "print(a[2][1])\n",
    "print(a[2,1])\n",
    "print(a[1,2])"
   ]
  },
  {
   "cell_type": "code",
   "execution_count": 110,
   "id": "ffc579a1-08c4-4d5b-b84d-9e1266fbaeb0",
   "metadata": {},
   "outputs": [
    {
     "name": "stdout",
     "output_type": "stream",
     "text": [
      "[[1 2 3]\n",
      " [4 5 6]\n",
      " [7 8 9]]\n",
      "==============================\n",
      "[5 6]\n",
      "==============================\n",
      "[2 5 8]\n",
      "==============================\n",
      "[[ 1  2  3]\n",
      " [ 4  5 75]\n",
      " [ 7  8  9]]\n",
      "==============================\n",
      "==============================\n",
      "[[100   2   3]\n",
      " [101   5  75]\n",
      " [102   8   9]]\n",
      "==============================\n",
      "[[100   2   3]\n",
      " [200 201 202]\n",
      " [102   8   9]]\n"
     ]
    }
   ],
   "source": [
    "import numpy as np\n",
    "a = np.arange(1,10).reshape((3,3))\n",
    "print(a)\n",
    "print(\"=\"*30)\n",
    "print(a[1,1:3])\n",
    "print(\"=\"*30)\n",
    "print(a[:,1])\n",
    "print(\"=\"*30)\n",
    "a[1,2] = 75\n",
    "print(a)\n",
    "print(\"=\"*30)\n",
    "a[:,0] = [100,101,102]\n",
    "print(\"=\"*30)\n",
    "print(a)\n",
    "print(\"=\"*30)\n",
    "a[1,:] = [200,201,202] \n",
    "print(a)"
   ]
  },
  {
   "cell_type": "code",
   "execution_count": 115,
   "id": "ff726bba-aabb-4ed4-ab06-e3be79dd084e",
   "metadata": {},
   "outputs": [
    {
     "name": "stdout",
     "output_type": "stream",
     "text": [
      "[[ 0  1  2  3  4  5]\n",
      " [ 6  7  8  9 10 11]\n",
      " [12 13 14 15 16 17]\n",
      " [18 19 20 21 22 23]\n",
      " [24 25 26 27 28 29]\n",
      " [30 31 32 33 34 35]]\n",
      "====1====\n",
      "[3 4]\n",
      "====2====\n",
      "[[28 29]\n",
      " [34 35]]\n",
      "====3===\n",
      "[[ 0  1  2]\n",
      " [ 6  7  8]\n",
      " [12 13 14]]\n",
      "====4===\n",
      "[ 2  8 14 20 26 32]\n"
     ]
    }
   ],
   "source": [
    "import numpy as np\n",
    "a = np.arange(36).reshape((6,6))\n",
    "print(a)\n",
    "print(\"====1====\")\n",
    "print(a[0,3:5])\n",
    "print(\"====2====\")\n",
    "print(a[4:,4:])\n",
    "print(\"====3===\")\n",
    "print(a[:3,:3])\n",
    "print(\"====4===\")\n",
    "print(a[:,2])"
   ]
  },
  {
   "cell_type": "markdown",
   "id": "bcc56360-4dae-4f78-99c7-f980516264c0",
   "metadata": {},
   "source": [
    "## 重設新陣列\n",
    "+ resize 這個動作會依據原本的陣列再設定指定大小的新陣列。 \n",
    "+ resize 動作的參數如下：\n",
    "+ numpy.resize(arr1，shape1)\n",
    "  + arr1：原本的陣列\n",
    "  + shape1：新規劃的大小\n",
    "+ 如果規劃的新陣列比較大，將會重新複製原有陣列的資料，填滿新的儲存格。\n",
    "+ resize 這個動作***建立新的陣列***，而 reshape 則是依據原有的重新規劃，仍會受到原有陣列影響。\n",
    "+ transpose()轉置"
   ]
  },
  {
   "cell_type": "code",
   "execution_count": 123,
   "id": "b3841cdd-6408-4f30-abef-e2e0560b6c7e",
   "metadata": {},
   "outputs": [
    {
     "name": "stdout",
     "output_type": "stream",
     "text": [
      "[[1 2 3]\n",
      " [4 5 6]]\n",
      "(2, 3)\n",
      "[[1 2 3 4 5 6]]\n",
      "(1, 6)\n",
      "[[  1 100   3]\n",
      " [  4   5   6]]\n",
      "[[  1 100   3   4   5   6]]\n"
     ]
    }
   ],
   "source": [
    "import numpy as np\n",
    "a = np.array([[1,2,3],\n",
    "              [4,5,6]])\n",
    "print(a)\n",
    "print(a.shape)\n",
    "b = a.reshape((1,6))\n",
    "print(b)\n",
    "print(b.shape)\n",
    "b[0,1] = 100\n",
    "print(a)# 會改變\n",
    "print(b)"
   ]
  },
  {
   "cell_type": "markdown",
   "id": "4830d215-3485-43f9-8e21-5b650ff2bbaf",
   "metadata": {},
   "source": [
    "### resize"
   ]
  },
  {
   "cell_type": "code",
   "execution_count": 128,
   "id": "4e3ea39d-72ba-4a2d-ad9c-67a4d3930274",
   "metadata": {},
   "outputs": [
    {
     "name": "stdout",
     "output_type": "stream",
     "text": [
      "[[1 2 3]\n",
      " [4 5 6]]\n",
      "(2, 3)\n",
      "[[1 2]\n",
      " [3 4]\n",
      " [5 6]]\n",
      "(3, 2)\n",
      "[[  1   2]\n",
      " [  3 100]\n",
      " [  5   6]]\n",
      "[[1 2 3]\n",
      " [4 5 6]]\n"
     ]
    }
   ],
   "source": [
    "import numpy as np\n",
    "a = np.array([[1,2,3],\n",
    "              [4,5,6]])\n",
    "print(a)\n",
    "print(a.shape)\n",
    "b = np.resize(a,(3,2))\n",
    "print(b)\n",
    "print(b.shape)\n",
    "b[1,1] = 100\n",
    "print(b)\n",
    "print(a)#不會變"
   ]
  },
  {
   "cell_type": "code",
   "execution_count": 133,
   "id": "8ca1f89f-4432-4c9c-9e68-8923c460a098",
   "metadata": {},
   "outputs": [
    {
     "name": "stdout",
     "output_type": "stream",
     "text": [
      "[[1 2 3]\n",
      " [4 5 6]]\n",
      "[[1 2 3 4]\n",
      " [5 6 1 2]]\n",
      "[[1 2]]\n",
      "[[1 2 3 4 5 6 1 2 3 4]\n",
      " [5 6 1 2 3 4 5 6 1 2]\n",
      " [3 4 5 6 1 2 3 4 5 6]\n",
      " [1 2 3 4 5 6 1 2 3 4]\n",
      " [5 6 1 2 3 4 5 6 1 2]\n",
      " [3 4 5 6 1 2 3 4 5 6]\n",
      " [1 2 3 4 5 6 1 2 3 4]\n",
      " [5 6 1 2 3 4 5 6 1 2]\n",
      " [3 4 5 6 1 2 3 4 5 6]\n",
      " [1 2 3 4 5 6 1 2 3 4]]\n"
     ]
    }
   ],
   "source": [
    "print(a)\n",
    "c = np.resize(a,(2,4))\n",
    "print(c)\n",
    "c = np.resize(a,(1,2))\n",
    "print(c)\n",
    "c = np.resize(a,(10,10))\n",
    "print(c)"
   ]
  },
  {
   "cell_type": "markdown",
   "id": "db35d03f-fcee-4b33-9f6d-b82c566767cb",
   "metadata": {},
   "source": [
    "### transpose"
   ]
  },
  {
   "cell_type": "code",
   "execution_count": 139,
   "id": "df7fcee0-8baa-401a-bd7d-f34f0272672a",
   "metadata": {},
   "outputs": [
    {
     "name": "stdout",
     "output_type": "stream",
     "text": [
      "[[0 1 2 3 4]\n",
      " [5 6 7 8 9]]\n",
      "======================\n",
      "[[0 5]\n",
      " [1 6]\n",
      " [2 7]\n",
      " [3 8]\n",
      " [4 9]]\n",
      "======================\n",
      "[[0 1 2 3 4]\n",
      " [5 6 7 8 9]]\n",
      "======================\n",
      "[[0 5]\n",
      " [1 6]\n",
      " [2 7]\n",
      " [3 8]\n",
      " [4 9]]\n"
     ]
    }
   ],
   "source": [
    "import numpy as np\n",
    "newArray = np.arange(10).reshape((2,5))\n",
    "print(newArray)\n",
    "print(\"======================\")\n",
    "print(newArray.transpose())\n",
    "print(\"======================\")\n",
    "print(newArray)\n",
    "print(\"======================\")\n",
    "print(newArray.T)"
   ]
  },
  {
   "cell_type": "markdown",
   "id": "27fb6887-0859-413e-9cbb-a233ff4f3cc0",
   "metadata": {},
   "source": [
    "## 總和最大與最小\n",
    "+ np.sum( ) 代表某一個陣列內容的總和，也可以指定這個陣列的哪一軸 (axis) 內容總和。\n",
    "+ np.min( ) 代表某一個陣列內容的最小值，也可以指定這個陣列的哪一軸 (axis) 內容的最小值。\n",
    "+ np.max( ) 代表某一個陣列內容的最大值，也可以指定這個陣列的哪一軸 (axis) 內容的最大值。\n",
    "+ amin 與 min 是相同功能的方法。\n",
    "+ amax 與 max 是相同功能的方法。"
   ]
  },
  {
   "cell_type": "markdown",
   "id": "032739bd-576c-45dc-9c59-4513275d2f09",
   "metadata": {},
   "source": [
    "### 總和sum()"
   ]
  },
  {
   "cell_type": "code",
   "execution_count": 145,
   "id": "b7f89520-2972-46fd-9b74-65a0ef95baac",
   "metadata": {},
   "outputs": [
    {
     "name": "stdout",
     "output_type": "stream",
     "text": [
      "[[ 0 30 45]\n",
      " [60 75 90]]\n",
      "======================\n",
      "300\n",
      "======================\n",
      "[ 60 105 135]\n",
      "======================\n",
      "[ 75 225]\n",
      "======================\n"
     ]
    }
   ],
   "source": [
    "import numpy as np\n",
    "a = np.array([[0, 30,45],\n",
    "              [60,75,90]])\n",
    "print(a)\n",
    "print(\"======================\")\n",
    "b = np.sum(a)\n",
    "print(b)\n",
    "print(\"======================\")\n",
    "b = np.sum(a,axis=0)\n",
    "print(b)\n",
    "print(\"======================\")\n",
    "b = np.sum(a,axis=1)\n",
    "print(b)\n",
    "print(\"======================\")"
   ]
  },
  {
   "cell_type": "markdown",
   "id": "7533d21f-7898-4b45-8259-50bf94320dd0",
   "metadata": {},
   "source": [
    "### max() min()"
   ]
  },
  {
   "cell_type": "code",
   "execution_count": 150,
   "id": "61377120-c2c5-4fa5-a04c-3f5a955a1aaa",
   "metadata": {},
   "outputs": [
    {
     "name": "stdout",
     "output_type": "stream",
     "text": [
      "[[ 0 75 45]\n",
      " [60 30 90]]\n",
      "90\n",
      "========\n",
      "[60 75 90]\n",
      "[1 0 1]\n",
      "========\n",
      "[75 90]\n",
      "[1 2]\n"
     ]
    }
   ],
   "source": [
    "import numpy as np\n",
    "a = np.array([[0, 75,45],\n",
    "              [60,30,90]])\n",
    "print(a)\n",
    "b = np.max(a)\n",
    "print(b)\n",
    "print(\"========\")\n",
    "b = np.max(a,axis = 0)\n",
    "bi = np.argmax(a,axis = 0)\n",
    "print(b)\n",
    "print(bi)\n",
    "print(\"========\")\n",
    "b = np.max(a,axis = 1)\n",
    "bi = np.argmax(a,axis=1)\n",
    "print(b)\n",
    "print(bi)\n"
   ]
  },
  {
   "cell_type": "markdown",
   "id": "cd2d7f41-1a96-48ab-b2b0-5f4accec7c42",
   "metadata": {},
   "source": [
    "## 中位數與平均\n",
    "+ median( ) 方法可取出陣列或陣列中指定的軸之中位數。\n",
    "+ 把所有值高低排序後找出正中間的一個作爲中位數。如果資料數量為偶數，則中位數取最中間的兩個數值的平均數。\n",
    "+ 參數：\n",
    "  + array：陣列\n",
    "  + axis：軸\n",
    "+ mean( ) 方法可取出陣列或陣列中指定的軸之平均數。\n",
    "+ 平均值就是把陣列或指定軸的所有資料除以數量後的數值。\n",
    "+ 參數：\n",
    "    + array：陣列 \n",
    "    + axis：軸\n",
    "+ average( ) 方法與 mean( ) 方法相似，但可以加入權重進行計算。\n",
    "+ 計算公式為 ((資料*權重)相加)/(權重相加)\n",
    "+ 參數：\n",
    "  + array：陣列\n",
    "  + axis：軸\n",
    "  + weights：權重，若沒有則設定為 1\n",
    "  + returned：若設定為 true，代表返回計算結果跟權重相加總合兩筆資料，若沒有設定或設定  false 則只有計算結果 \n",
    "+ 沒有指定權重時與一般平均值相同。\n",
    "+ 加權平均值是由每個資料乘以權重以反映加上重要性因素後產生的平均值。\n",
    "+ average( ) 使用時若沒有指定軸，則陣列將被平坦化。\n",
    "+ 假設有個陣列資料為 [1,2,3,4]，相應的權重 [40,30,20,10]，加權平均數是這樣：\n",
    "    (1x40+2x30+3x20+4x10)/(40+30+20+10)"
   ]
  },
  {
   "cell_type": "code",
   "execution_count": 153,
   "id": "6c5ab2e1-5435-4b18-b243-1380f09ea1bf",
   "metadata": {},
   "outputs": [
    {
     "name": "stdout",
     "output_type": "stream",
     "text": [
      "[[ 0 30 45]\n",
      " [60 75 90]]\n",
      "\n",
      "50.0\n",
      "\n",
      "[30.  52.5 67.5]\n",
      "\n",
      "[25. 75.]\n"
     ]
    }
   ],
   "source": [
    "import numpy as np\n",
    "a = np.array([[0, 30,45],\n",
    "              [60,75,90]])\n",
    "print(a)\n",
    "print( )\n",
    "b = np.mean(a)\n",
    "print(b)\n",
    "print()\n",
    "b = np.mean(a,axis = 0)\n",
    "print(b)\n",
    "print()\n",
    "b = np.mean(a,axis = 1)\n",
    "print(b)\n"
   ]
  },
  {
   "cell_type": "code",
   "execution_count": 161,
   "id": "bcba1428-ef7e-4891-82f6-793bf968da8a",
   "metadata": {},
   "outputs": [
    {
     "name": "stdout",
     "output_type": "stream",
     "text": [
      "2.5\n",
      "2.0\n",
      "2.0 10.0\n"
     ]
    }
   ],
   "source": [
    "import numpy as np\n",
    "a = np.array([1,2,3,4])\n",
    "b = np.average(a)\n",
    "print(b)\n",
    "wts = np.array([4,3,2,1])\n",
    "b = np.average(a,weights=wts)\n",
    "#(1*4+2*3+3*2+4*1)/(4+3+2+1)  \n",
    "# 20/10  = 2\n",
    "print(b)\n",
    "b ,w = np.average(a,weights=wts,returned=True)\n",
    "print(b,w)"
   ]
  },
  {
   "cell_type": "markdown",
   "id": "9e216e22-75ba-4803-a61b-d36b3ed096d4",
   "metadata": {},
   "source": [
    "## 中位數"
   ]
  },
  {
   "cell_type": "code",
   "execution_count": 165,
   "id": "8f0da646-5d77-44ea-bf1d-051161589389",
   "metadata": {},
   "outputs": [
    {
     "name": "stdout",
     "output_type": "stream",
     "text": [
      "[[ 0 30 45]\n",
      " [60 75 90]]\n",
      "52.5\n",
      "\n",
      "[30.  52.5 67.5]\n",
      "[30. 75.]\n"
     ]
    }
   ],
   "source": [
    "import numpy as np\n",
    "a = np.array([[0, 30,45],\n",
    "              [60,75,90]])\n",
    "\n",
    "print(a)\n",
    "b = np.median(a)\n",
    "print(b)\n",
    "print()\n",
    "b = np.median(a,axis = 0)\n",
    "print(b)\n",
    "b = np.median(a,axis = 1)\n",
    "print(b)"
   ]
  },
  {
   "cell_type": "markdown",
   "id": "3232fdc2-aaf9-45d5-a548-1618874956ae",
   "metadata": {},
   "source": [
    "## 變異數與標準差\n",
    "+ 變異數代表所有資料到平均數的距離之平方。\n",
    "+ 標準差代表變異數開平方根，也就是可依此表示資料的分散程度。\n",
    "+ var( ) 代表由陣列取得變異數的方法。\n",
    "+ std( ) 代表由陣列取得標準差的方法。\n",
    "\n",
    "+ 定義：\n",
    "\n",
    "+ 變異數代表((每一個資料-平均值)平方後的加總結果)/總個數。\n",
    "\n",
    "+ 標準差是變異數的開根號結果。\n",
    "\n"
   ]
  },
  {
   "cell_type": "code",
   "execution_count": 168,
   "id": "b43734b4-ed9d-43c3-b6e2-999cf0e9c370",
   "metadata": {},
   "outputs": [
    {
     "name": "stdout",
     "output_type": "stream",
     "text": [
      "[1 2 3 4]\n",
      "1.25\n",
      "1.118033988749895\n",
      "1.118033988749895\n"
     ]
    }
   ],
   "source": [
    "import math\n",
    "import numpy as np\n",
    "a = np.array([1,2,3,4])\n",
    "print(a)\n",
    "b = np.var(a)\n",
    "print(b)\n",
    "s = np.std(a)\n",
    "print(s)\n",
    "print(math.sqrt(b))"
   ]
  },
  {
   "cell_type": "markdown",
   "id": "5f7f6e2f-3ef6-4fb3-b83a-a82f58ce552d",
   "metadata": {},
   "source": [
    "## 平均中位標準差!\n",
    "#### 請查看男女生遲到天數，要如何進行分析?"
   ]
  },
  {
   "cell_type": "code",
   "execution_count": 174,
   "id": "cfa02db9-bfab-4c17-96cc-1f7d8af49b90",
   "metadata": {},
   "outputs": [
    {
     "name": "stdout",
     "output_type": "stream",
     "text": [
      "g: 36.0\n",
      "b: 36.0\n",
      "42.75979419969184\n",
      "1.5491933384829668\n",
      "======================\n",
      "28.0\n",
      "36.0\n"
     ]
    }
   ],
   "source": [
    "import numpy as np\n",
    "girl=np.array([8,10,15,20,27,29,29,30,30,162])\n",
    "boy=np.array([34,34,35,35,36,36,36,37,38,39])\n",
    "g_mean = np.mean(girl)\n",
    "b_mean = np.mean(boy)\n",
    "print(\"g:\",g_mean)\n",
    "print(\"b:\",b_mean)\n",
    "g_std = np.std(girl)\n",
    "b_std = np.std(boy)\n",
    "print(g_std)\n",
    "print(b_std)\n",
    "print(\"======================\")\n",
    "g_median = np.median(girl)\n",
    "b_median = np.median(boy)\n",
    "print(g_median)\n",
    "print(b_median)"
   ]
  },
  {
   "cell_type": "markdown",
   "id": "adc00066-39f3-4709-aa1f-e3536974fd66",
   "metadata": {},
   "source": [
    "## 範圍與百分位數\n",
    "+ np.ptp( ) 計算最大與最小值的差（最大 -(減) 最小）。\n",
    "+ np.percentile( ) 方法代表百分位數，用於統計數據的度量指標，需要三個參數：\n",
    "  + array：陣列。\n",
    "  + percent：計算的百分位數，介於 0 到 100 之間。\n",
    "  + axis：進行計算的軸。\n",
    "+ 百分位數是一種位置量數，有助於瞭解資料在最小值與最大值之間的分布情況。\n",
    "+ p- 百分位數表示：\n",
    "  + 至少有 p-百分比 (p%) 的觀察值小於或者等於他。\n",
    "  + 至少有 (100-p)% 的觀察值大於或等於他。\n",
    "+ 計算方式：\n",
    "  + 將資料由小到大排序。\n",
    "  + 計算 i=(p%*樣本數) 之位置。\n",
    "  + 於 i 位置：\n",
    "    + a. 若不是整數，無條件進位取比 i 大的下一個整數位置的值。\n",
    "    + b. 若為整數，則由 i 與 i+1 兩個位置上的值取平均。"
   ]
  },
  {
   "cell_type": "code",
   "execution_count": 178,
   "id": "b4d3ba81-0350-4d13-bedb-7182410b9c9f",
   "metadata": {},
   "outputs": [
    {
     "name": "stdout",
     "output_type": "stream",
     "text": [
      "[[ 0 30 45]\n",
      " [60 75 90]]\n",
      "\n",
      "--------------------------\n",
      "90\n",
      "--------------------------\n",
      "[60 45 45]\n",
      "--------------------------\n",
      "[45 30]\n"
     ]
    }
   ],
   "source": [
    "import numpy as np\n",
    "a = np.array([[0, 30,45],\n",
    "              [60,75,90]])\n",
    "print(a)\n",
    "print()\n",
    "print(\"--------------------------\")\n",
    "print(np.ptp(a))\n",
    "print(\"--------------------------\")\n",
    "print(np.ptp(a,axis=0))\n",
    "print(\"--------------------------\")\n",
    "print(np.ptp(a,axis=1))"
   ]
  },
  {
   "cell_type": "markdown",
   "id": "da95c6ac-fb54-4197-80fe-47c825640e58",
   "metadata": {},
   "source": [
    "計算百分位數的過程如下：\r",
    "\r",
    "1. **排序數據**：首先將所有數據排序。\r",
    "2. **計算位置**：使用公式 `位置 = (n - 1) * (百分位數 / 100)`，其中 `n` 是數據的總數。\r",
    "3. **內插計算**：如果位置是整數，則百分位數就是該位置的值。如果位置不是整數，則需要使用內插法計算確切的百分位數。\r",
    "\r",
    "\r",
    "### 原始數據\r",
    "```\r",
    "a = [[11, 8, 9], [5, 4, 1]]\r",
    "```\r",
    "\r",
    "### 步驟 1：排序數據\r",
    "將數據展平並排序：\r",
    "```\r",
    "[1, 4, 5, 8, 9, 11]\r",
    "```\r",
    "\r",
    "### 步驟 2：計算位置\r",
    "對於第 25 百分位數，計算位置：\r",
    "```\r",
    "位置 = (n - 1) * (25 / 100)\r",
    "    = (6 - 1) * 0.25\r",
    "    = 5 * 0.25\r",
    "    = 1.25\r",
    "```\r",
    "\r",
    "### 步驟 3：內插計算\r",
    "位置 1.25 不是整數，所以我們需要進行內插計算。位置 1.25 的值位於位置 1 和位置 2 之間。\r",
    "\r",
    "位置 1 的值是 4，位置 2 的值是 5。\r",
    "\r",
    "內插計算公式：\r",
    "```\r",
    "百分位數 = 值1 + (值2 - 值1) * 小數部分\r",
    "         = 4 + (5 - 4) * 0.25\r",
    "         = 4 + 1 * 0.25\r",
    "         = 4 + 0.25\r",
    "         = 4.25\r",
    "```\r",
    "\r",
    "因此，第 25 百分位數的值是 4.25。\r",
    "\r",
    "### 總結\r",
    "這就是為什麼 `np.percentile(a, 25)` 會輸出 4.25 的原因。計算過程包括排序數據、計算位置，並使用內插法計算確切的百分位數。"
   ]
  },
  {
   "cell_type": "code",
   "execution_count": 179,
   "id": "b5f2a069-ab05-4564-854f-065e6dee6d7a",
   "metadata": {},
   "outputs": [
    {
     "name": "stdout",
     "output_type": "stream",
     "text": [
      "4.25\n"
     ]
    }
   ],
   "source": [
    "import numpy as np\n",
    "a = np.array([[11, 8, 9],\n",
    "               [5, 4, 1]])\n",
    "b1 = np.percentile(a,25)\n",
    "print(b1)"
   ]
  },
  {
   "cell_type": "markdown",
   "id": "2730807b-1daa-4216-ac80-225c86ad5a27",
   "metadata": {},
   "source": [
    "計算百分位數的過程如下：\n",
    "\n",
    "1. **排序數據**：首先將所有數據排序。\n",
    "2. **計算位置**：使用公式 `位置 = (n - 1) * (百分位數 / 100)`，其中 `n` 是數據的總數。\n",
    "3. **內插計算**：如果位置是整數，則百分位數就是該位置的值。如果位置不是整數，則需要使用內插法計算確切的百分位數。\n",
    "\n",
    "\n",
    "### 原始數據\n",
    "```\n",
    "a = [[11, 8, 9], [5, 4, 1]]\n",
    "```\n",
    "\n",
    "### 沿軸 0 計算第 75 百分位數\n",
    "沿著軸 0 計算，即對每列（每個 column）分別計算第 75 百分位數。\n",
    "\n",
    "#### 第 1 列: [11, 5]\n",
    "1. 排序數據: [5, 11]\n",
    "2. 計算位置: `(2 - 1) * 0.75 = 1 * 0.75 = 0.75`\n",
    "3. 內插計算: `5 + (11 - 5) * 0.75 = 5 + 6 * 0.75 = 5 + 4.5 = 9.5`\n",
    "\n",
    "#### 第 2 列: [8, 4]\n",
    "1. 排序數據: [4, 8]\n",
    "2. 計算位置: `(2 - 1) * 0.75 = 1 * 0.75 = 0.75`\n",
    "3. 內插計算: `4 + (8 - 4) * 0.75 = 4 + 4 * 0.75 = 4 + 3 = 7`\n",
    "\n",
    "#### 第 3 列: [9, 1]\n",
    "1. 排序數據: [1, 9]\n",
    "2. 計算位置: `(2 - 1) * 0.75 = 1 * 0.75 = 0.75`\n",
    "3. 內插計算: `1 + (9 - 1) * 0.75 = 1 + 8 * 0.75 = 1 + 6 = 7`\n",
    "\n",
    "### 總結\n",
    "將各列的第 75 百分位數組合在一起，得到結果：\n",
    "```\n",
    "第 75 百分位數 (軸 0): [9.5, 7, 7]\n",
    "```\n",
    "\n",
    "這些就是 `np.percentile(a, 75, axis=0)` 的具體算式和結果。"
   ]
  },
  {
   "cell_type": "code",
   "execution_count": 180,
   "id": "99f0d027-fa92-4d3a-9822-8d66bb50463e",
   "metadata": {},
   "outputs": [
    {
     "name": "stdout",
     "output_type": "stream",
     "text": [
      "The percentile is: [9.5 7.  7. ]\n"
     ]
    }
   ],
   "source": [
    "b2= np.percentile(a, 75, axis=0)\n",
    "print(\"The percentile is:\",b2) "
   ]
  },
  {
   "cell_type": "markdown",
   "id": "6c5806e1-8567-425c-a8eb-049e3ddd3fb5",
   "metadata": {},
   "source": [
    "### 原始數據\n",
    "```\n",
    "a = [[11, 8, 9], [5, 4, 1]]\n",
    "```\n",
    "\n",
    "### 沿軸 1 計算第 25 百分位數\n",
    "我們來逐步進行計算：\n",
    "\n",
    "#### 第 1 行: [11, 8, 9]\n",
    "1. 排序數據: [8, 9, 11]\n",
    "2. 計算位置: `(3 - 1) * 0.25 = 2 * 0.25 = 0.5`\n",
    "3. 內插計算: \n",
    "   - 在 NumPy 中，當位置是一個非整數時，它會在兩個最近的數字之間進行內插。\n",
    "   - `8 + (9 - 8) * 0.5 = 8 + 1 * 0.5 = 8.5`\n",
    "\n",
    "#### 第 2 行: [5, 4, 1]\n",
    "1. 排序數據: [1, 4, 5]\n",
    "2. 計算位置: `(3 - 1) * 0.25 = 2 * 0.25 = 0.5`\n",
    "3. 內插計算: \n",
    "   - `1 + (4 - 1) * 0.5 = 1 + 3 * 0.5 = 1 + 1.5 = 2.5`\n",
    "\n",
    "### 總結\n",
    "將各行的第 25 百分位數組合在一起，得到結果：\n",
    "```\n",
    "第 25 百分位數 (軸 1): [8.5, 2.5]\n",
    "``` 2.5]`，"
   ]
  },
  {
   "cell_type": "code",
   "execution_count": 181,
   "id": "19d214b0-0f55-461d-9a33-7b962acc731a",
   "metadata": {},
   "outputs": [
    {
     "data": {
      "text/plain": [
       "array([8.5, 2.5])"
      ]
     },
     "execution_count": 181,
     "metadata": {},
     "output_type": "execute_result"
    }
   ],
   "source": [
    "b3 = np.percentile(a, 25, axis=1)\n",
    "b3"
   ]
  },
  {
   "cell_type": "markdown",
   "id": "b5d115df-0d51-4578-8a36-e4840360d46b",
   "metadata": {},
   "source": [
    "## 累加與累差\n",
    "+ np.cumsum( ) 方法進行指定軸資料的累加。\n",
    "+ 參數：\n",
    "  + array：陣列\n",
    "  + axis：軸，沒有指定軸則會平坦化後進行累加\n",
    "+ 維持原有的資料數量，且在計算結果上進行下一個計算。\n",
    "+ np.diff( ) 方法進行指定軸資料的累差。\n",
    "+ 參數：\n",
    "  + array：陣列\n",
    "  + axis：軸，沒有指定軸預設 axis 為 1\n",
    "+ 以原資料進行資料內容刪除，若 axis 為 0 則減少一個 row，若 axis 為 1 減少一個 column。"
   ]
  },
  {
   "cell_type": "code",
   "execution_count": 186,
   "id": "07644711-68a4-4d10-90df-ee2b75dc97b1",
   "metadata": {},
   "outputs": [
    {
     "name": "stdout",
     "output_type": "stream",
     "text": [
      "[[ 1  2  3]\n",
      " [13  6  9]\n",
      " [12 24 36]]\n",
      "[  1   3   6  19  25  34  46  70 106]\n",
      "======================\n",
      "[[ 1  2  3]\n",
      " [14  8 12]\n",
      " [26 32 48]]\n",
      "======================\n",
      "[[ 1  3  6]\n",
      " [13 19 28]\n",
      " [12 36 72]]\n"
     ]
    }
   ],
   "source": [
    "import numpy as np\n",
    "a = np.array([[1, 2, 3], \n",
    "              [13, 6, 9], \n",
    "              [12, 24, 36]])\n",
    "print(a)\n",
    "print(np.cumsum(a))\n",
    "print(\"======================\")\n",
    "print(np.cumsum(a,axis=0))\n",
    "print(\"======================\")\n",
    "print(np.cumsum(a,axis=1))"
   ]
  },
  {
   "cell_type": "code",
   "execution_count": 189,
   "id": "cdbc43ab-abda-4047-8b3e-25384ffab0f2",
   "metadata": {},
   "outputs": [
    {
     "name": "stdout",
     "output_type": "stream",
     "text": [
      "[[ 1  2  3]\n",
      " [13  6  9]]\n",
      "[[ 1  1]\n",
      " [-7  3]]\n",
      "=================\n",
      "[[12  4  6]]\n",
      "=================\n",
      "[[ 1  1]\n",
      " [-7  3]]\n"
     ]
    }
   ],
   "source": [
    "import numpy as np\n",
    "a = np.array([[1, 2, 3], \n",
    "              [13, 6, 9]])\n",
    "print(a)\n",
    "print(np.diff(a))#預設axis=1\n",
    "print(\"=================\")\n",
    "print(np.diff(a,axis=0))\n",
    "print(\"=================\")\n",
    "print(np.diff(a,axis=1))"
   ]
  },
  {
   "cell_type": "code",
   "execution_count": null,
   "id": "29886e44-407c-4c6e-a832-ffced971e067",
   "metadata": {},
   "outputs": [],
   "source": []
  }
 ],
 "metadata": {
  "kernelspec": {
   "display_name": "Python 3 (ipykernel)",
   "language": "python",
   "name": "python3"
  },
  "language_info": {
   "codemirror_mode": {
    "name": "ipython",
    "version": 3
   },
   "file_extension": ".py",
   "mimetype": "text/x-python",
   "name": "python",
   "nbconvert_exporter": "python",
   "pygments_lexer": "ipython3",
   "version": "3.11.9"
  }
 },
 "nbformat": 4,
 "nbformat_minor": 5
}
